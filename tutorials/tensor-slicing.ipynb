{
 "cells": [
  {
   "cell_type": "markdown",
   "metadata": {
    "pycharm": {
     "name": "#%% md\n"
    }
   },
   "source": [
    "# Tensor Indexing and Slicing\n",
    "\n",
    "This notebook will discuss accessing data in a tensor through indexing and slicing. Indexing is when we take an individual value from the tensor. Slicing is when we cut the tensor and take data as a 1D vector, 2D array, or higher dimensional tensor. Both indexing and slicing are done using the index operator, `[]`. An alternative way to index or slice a tensor is to use the `view()` function."
   ]
  },
  {
   "cell_type": "markdown",
   "metadata": {
    "pycharm": {
     "name": "#%% md\n"
    }
   },
   "source": [
    "## Housekeeping\n",
    "\n",
    "This notebook uses `api.jar` from the diffkt project.<br>\n",
    "`@file:DependsOn(\"...\")` tells the Kotlin Jupyter notebook the path to a jar that it needs."
   ]
  },
  {
   "cell_type": "code",
   "execution_count": 1,
   "metadata": {
    "pycharm": {
     "name": "#%%\n"
    }
   },
   "outputs": [],
   "source": [
    "@file:DependsOn(\"../kotlin/api/build/libs/api.jar\")"
   ]
  },
  {
   "cell_type": "markdown",
   "metadata": {
    "pycharm": {
     "name": "#%% md\n"
    }
   },
   "source": [
    "## Imports"
   ]
  },
  {
   "cell_type": "code",
   "execution_count": 2,
   "metadata": {
    "pycharm": {
     "name": "#%%\n"
    }
   },
   "outputs": [],
   "source": [
    "import org.diffkt.*"
   ]
  },
  {
   "cell_type": "markdown",
   "metadata": {
    "pycharm": {
     "name": "#%% md\n"
    }
   },
   "source": [
    "## Indexing a Tensor\n",
    "\n",
    "Indexing for tensors starts at 0. The example we will use is a 2x2x2 tensor. Indexing an element or taking a slice uses the index operator, `[]`. Let the indexes for the individual axis be `i1`, `i2`, and `i3`, such that index for `x` is `x[i1,i2, i3]`. This is an example of an index that returns an individual element of the tensor."
   ]
  },
  {
   "cell_type": "markdown",
   "metadata": {},
   "source": [
    "### Example 3D Tensor"
   ]
  },
  {
   "cell_type": "code",
   "execution_count": 3,
   "metadata": {
    "pycharm": {
     "name": "#%%\n"
    }
   },
   "outputs": [],
   "source": [
    "// example 3D tensor\n",
    "\n",
    "val x = tensorOf(1f, 2f, 3f, 4f, 5f, 6f, 7f, 8f).reshape(2,2,2)"
   ]
  },
  {
   "cell_type": "markdown",
   "metadata": {},
   "source": [
    "### Example of Retrieving Individual Elements"
   ]
  },
  {
   "cell_type": "code",
   "execution_count": 4,
   "metadata": {
    "pycharm": {
     "name": "#%%\n"
    }
   },
   "outputs": [
    {
     "name": "stdout",
     "output_type": "stream",
     "text": [
      "x[0,0,0] = 1.0f\n",
      "x[0,0,1] = 2.0f\n",
      "x[0,1,0] = 3.0f\n",
      "x[0,1,1] = 4.0f\n",
      "x[1,0,0] = 5.0f\n",
      "x[1,0,1] = 6.0f\n",
      "x[1,1,0] = 7.0f\n",
      "x[1,1,1] = 8.0f\n"
     ]
    }
   ],
   "source": [
    "// indexing of individual elements of 3D tensor\n",
    "\n",
    "println(\"x[0,0,0] = ${x[0,0,0]}\")\n",
    "println(\"x[0,0,1] = ${x[0,0,1]}\")\n",
    "println(\"x[0,1,0] = ${x[0,1,0]}\")\n",
    "println(\"x[0,1,1] = ${x[0,1,1]}\")\n",
    "println(\"x[1,0,0] = ${x[1,0,0]}\")\n",
    "println(\"x[1,0,1] = ${x[1,0,1]}\")\n",
    "println(\"x[1,1,0] = ${x[1,1,0]}\")\n",
    "println(\"x[1,1,1] = ${x[1,1,1]}\")"
   ]
  },
  {
   "cell_type": "markdown",
   "metadata": {
    "pycharm": {
     "name": "#%% md\n"
    }
   },
   "source": [
    "### Taking a 1D slice\n",
    "\n",
    "When we take a slice with a 2D index of a 3D tensor, the indexing operator returns a 1D vector. In this example a slice is taken with `i1` and `i2` as the index. A 1D vector is returned with the values of the tensor along the `i3` axis."
   ]
  },
  {
   "cell_type": "code",
   "execution_count": 5,
   "metadata": {
    "pycharm": {
     "name": "#%%\n"
    },
    "scrolled": true
   },
   "outputs": [
    {
     "name": "stdout",
     "output_type": "stream",
     "text": [
      "x[0,0] = tensorOf(1.0f, 2.0f)\n",
      "x[0,1] = tensorOf(3.0f, 4.0f)\n",
      "x[1,0] = tensorOf(5.0f, 6.0f)\n",
      "x[1,1] = tensorOf(7.0f, 8.0f)\n"
     ]
    }
   ],
   "source": [
    "// indexing to produce a 1D slice\n",
    "\n",
    "println(\"x[0,0] = ${x[0,0]}\")\n",
    "println(\"x[0,1] = ${x[0,1]}\")\n",
    "println(\"x[1,0] = ${x[1,0]}\")\n",
    "println(\"x[1,1] = ${x[1,1]}\")"
   ]
  },
  {
   "cell_type": "markdown",
   "metadata": {
    "pycharm": {
     "name": "#%% md\n"
    }
   },
   "source": [
    "### Taking a 2D Slice\n",
    "\n",
    "When we take a slice with a 1D index of a 3D tensor, the indexing operator returns a 2D array from the tensor. In this example `i1` is fixed and a 2D array is returned with the values indexed by `i2` and `i3`."
   ]
  },
  {
   "cell_type": "code",
   "execution_count": 6,
   "metadata": {
    "pycharm": {
     "name": "#%%\n"
    }
   },
   "outputs": [
    {
     "name": "stdout",
     "output_type": "stream",
     "text": [
      "x[0] = tensorOf(1.0f, 2.0f, 3.0f, 4.0f).reshape(Shape(2, 2))\n",
      "x[1] = tensorOf(5.0f, 6.0f, 7.0f, 8.0f).reshape(Shape(2, 2))\n"
     ]
    }
   ],
   "source": [
    "// indexing to produce a 2D slice\n",
    "\n",
    "println(\"x[0] = ${x[0]}\")\n",
    "println(\"x[1] = ${x[1]}\")"
   ]
  },
  {
   "cell_type": "markdown",
   "metadata": {
    "pycharm": {
     "name": "#%% md\n"
    }
   },
   "source": [
    "### Indexing a Transposed Tensor\n",
    "\n",
    "If you want to reverse the order of the slicing, start with the transpose of the tensor. Let the indexes of the transposed tensor be `t1`, `t2`, and `t3`, such that `t1 = i3`, `t2 = t2`, and `t3 = i1`."
   ]
  },
  {
   "cell_type": "markdown",
   "metadata": {},
   "source": [
    "### Example of Transposed 3D Tensor"
   ]
  },
  {
   "cell_type": "code",
   "execution_count": 7,
   "metadata": {
    "pycharm": {
     "name": "#%%\n"
    }
   },
   "outputs": [],
   "source": [
    "// transpose of example 3D tensor\n",
    "\n",
    "val x = tensorOf(1f, 2f, 3f, 4f, 5f, 6f, 7f, 8f).reshape(2,2,2).transpose()"
   ]
  },
  {
   "cell_type": "markdown",
   "metadata": {},
   "source": [
    "### Example of Retrieving Individual Elements"
   ]
  },
  {
   "cell_type": "code",
   "execution_count": 8,
   "metadata": {
    "pycharm": {
     "name": "#%%\n"
    }
   },
   "outputs": [
    {
     "name": "stdout",
     "output_type": "stream",
     "text": [
      "x[0,0,0] = 1.0f\n",
      "x[0,0,1] = 5.0f\n",
      "x[0,1,0] = 3.0f\n",
      "x[0,1,1] = 7.0f\n",
      "x[1,0,0] = 2.0f\n",
      "x[1,0,1] = 6.0f\n",
      "x[1,1,0] = 4.0f\n",
      "x[1,1,1] = 8.0f\n"
     ]
    }
   ],
   "source": [
    "// indexing of individual elements of transposed 3D tensor\n",
    "\n",
    "println(\"x[0,0,0] = ${x[0,0,0]}\")\n",
    "println(\"x[0,0,1] = ${x[0,0,1]}\")\n",
    "println(\"x[0,1,0] = ${x[0,1,0]}\")\n",
    "println(\"x[0,1,1] = ${x[0,1,1]}\")\n",
    "println(\"x[1,0,0] = ${x[1,0,0]}\")\n",
    "println(\"x[1,0,1] = ${x[1,0,1]}\")\n",
    "println(\"x[1,1,0] = ${x[1,1,0]}\")\n",
    "println(\"x[1,1,1] = ${x[1,1,1]}\")"
   ]
  },
  {
   "cell_type": "markdown",
   "metadata": {
    "pycharm": {
     "name": "#%% md\n"
    }
   },
   "source": [
    "### Taking a 1D Slice\n",
    "\n",
    "When we take a slice with a 2D index of a 3D tensor, the indexing operator returns a 1D vector. In this example a slice is taken with `t1` and `t2` as the index, which is the equivalent of `i3` and `i2`. A 1D vector is returned of the values of the tensor along the `t3` or `i1` axis."
   ]
  },
  {
   "cell_type": "code",
   "execution_count": 9,
   "metadata": {
    "pycharm": {
     "name": "#%%\n"
    }
   },
   "outputs": [
    {
     "name": "stdout",
     "output_type": "stream",
     "text": [
      "x[0,0] = tensorOf(1.0f, 5.0f)\n",
      "x[0,1] = tensorOf(3.0f, 7.0f)\n",
      "x[1,0] = tensorOf(2.0f, 6.0f)\n",
      "x[1,1] = tensorOf(4.0f, 8.0f)\n"
     ]
    }
   ],
   "source": [
    "// indexing to produce a 1D slice\n",
    "\n",
    "println(\"x[0,0] = ${x[0,0]}\")\n",
    "println(\"x[0,1] = ${x[0,1]}\")\n",
    "println(\"x[1,0] = ${x[1,0]}\")\n",
    "println(\"x[1,1] = ${x[1,1]}\")"
   ]
  },
  {
   "cell_type": "markdown",
   "metadata": {
    "pycharm": {
     "name": "#%% md\n"
    }
   },
   "source": [
    "### Taking a 2D Slice\n",
    "\n",
    "When we take a slice with a 1D index of a 3D tensor, the indexing operator returns a 2D array from the tensor. In this example where t1, or i3, is fixed, a 2D array is returned with the values indexed by t2 and t3, or i2 and i1."
   ]
  },
  {
   "cell_type": "code",
   "execution_count": 10,
   "metadata": {
    "pycharm": {
     "name": "#%%\n"
    }
   },
   "outputs": [
    {
     "name": "stdout",
     "output_type": "stream",
     "text": [
      "x[0] = tensorOf(1.0f, 5.0f, 3.0f, 7.0f).reshape(Shape(2, 2))\n",
      "x[1] = tensorOf(2.0f, 6.0f, 4.0f, 8.0f).reshape(Shape(2, 2))\n"
     ]
    }
   ],
   "source": [
    "// indexing to produce a 2D slice\n",
    "\n",
    "println(\"x[0] = ${x[0]}\")\n",
    "println(\"x[1] = ${x[1]}\")"
   ]
  },
  {
   "cell_type": "markdown",
   "metadata": {
    "pycharm": {
     "name": "#%% md\n"
    }
   },
   "source": [
    "## Using Views\n",
    "\n",
    "In addition to using the indexing operator, `[]`, we can call the `view()` function to retrieve data from a tensor."
   ]
  },
  {
   "cell_type": "markdown",
   "metadata": {},
   "source": [
    "### Example 3D Tensor"
   ]
  },
  {
   "cell_type": "code",
   "execution_count": 11,
   "metadata": {},
   "outputs": [],
   "source": [
    "// example of a 3D tensor\n",
    "\n",
    "val x = tensorOf(1f, 2f, 3f, 4f, 5f, 6f, 7f, 8f).reshape(2,2,2)"
   ]
  },
  {
   "cell_type": "markdown",
   "metadata": {},
   "source": [
    "### Using `view()` with Indices\n",
    "\n",
    "The `view()` function can be called with an IntArray of indices, just like using the index operator, `[]`.\n",
    "\n",
    "The first example gets an individual value from the tensor using an `intArray` of indices the same length as the dimension of the tensor."
   ]
  },
  {
   "cell_type": "code",
   "execution_count": 12,
   "metadata": {},
   "outputs": [
    {
     "name": "stdout",
     "output_type": "stream",
     "text": [
      "x.view(intArrayOf(0,0,0)) = 1.0f\n",
      "x.view(intArrayOf(0,0,1)) = 2.0f\n",
      "x.view(intArrayOf(0,1,0)) = 3.0f\n",
      "x.view(intArrayOf(0,1,1)) = 4.0f\n",
      "x.view(intArrayOf(1,0,0)) = 5.0f\n",
      "x.view(intArrayOf(1,0,1)) = 6.0f\n",
      "x.view(intArrayOf(1,1,0)) = 7.0f\n",
      "x.view(intArrayOf(1,1,1)) = 8.0f\n"
     ]
    }
   ],
   "source": [
    "// view of individual elements of 3D tensor\n",
    "\n",
    "println(\"x.view(intArrayOf(0,0,0)) = ${x.view(intArrayOf(0,0,0))}\")\n",
    "println(\"x.view(intArrayOf(0,0,1)) = ${x.view(intArrayOf(0,0,1))}\")\n",
    "println(\"x.view(intArrayOf(0,1,0)) = ${x.view(intArrayOf(0,1,0))}\")\n",
    "println(\"x.view(intArrayOf(0,1,1)) = ${x.view(intArrayOf(0,1,1))}\")\n",
    "println(\"x.view(intArrayOf(1,0,0)) = ${x.view(intArrayOf(1,0,0))}\")\n",
    "println(\"x.view(intArrayOf(1,0,1)) = ${x.view(intArrayOf(1,0,1))}\")\n",
    "println(\"x.view(intArrayOf(1,1,0)) = ${x.view(intArrayOf(1,1,0))}\")\n",
    "println(\"x.view(intArrayOf(1,1,1)) = ${x.view(intArrayOf(1,1,1))}\")"
   ]
  },
  {
   "cell_type": "markdown",
   "metadata": {},
   "source": [
    "### Taking a 1D Slice\n",
    "\n",
    "Using 2 indices returns a 1D vector slice, just like using the index operator, `[]`."
   ]
  },
  {
   "cell_type": "code",
   "execution_count": 13,
   "metadata": {},
   "outputs": [
    {
     "name": "stdout",
     "output_type": "stream",
     "text": [
      "x.view(intArrayOf(0,0)) = tensorOf(1.0f, 2.0f)\n",
      "x.view(intArrayOf(0,1)) = tensorOf(3.0f, 4.0f)\n",
      "x.view(intArrayOf(1,0)) = tensorOf(5.0f, 6.0f)\n",
      "x.view(intArrayOf(1,1)) = tensorOf(7.0f, 8.0f)\n"
     ]
    }
   ],
   "source": [
    "// get a 1D slice\n",
    "\n",
    "println(\"x.view(intArrayOf(0,0)) = ${x.view(intArrayOf(0,0))}\")\n",
    "println(\"x.view(intArrayOf(0,1)) = ${x.view(intArrayOf(0,1))}\")\n",
    "println(\"x.view(intArrayOf(1,0)) = ${x.view(intArrayOf(1,0))}\")\n",
    "println(\"x.view(intArrayOf(1,1)) = ${x.view(intArrayOf(1,1))}\")"
   ]
  },
  {
   "cell_type": "markdown",
   "metadata": {},
   "source": [
    "### Taking a 2D Slice\n",
    "\n",
    "Using one indice returns a 2D array slice, just like using the index operator, `[]`."
   ]
  },
  {
   "cell_type": "code",
   "execution_count": 14,
   "metadata": {},
   "outputs": [
    {
     "name": "stdout",
     "output_type": "stream",
     "text": [
      "x.view(intArrayOf(0)) = tensorOf(1.0f, 2.0f, 3.0f, 4.0f).reshape(Shape(2, 2))\n",
      "x.view(intArrayOf(1)) = tensorOf(5.0f, 6.0f, 7.0f, 8.0f).reshape(Shape(2, 2))\n"
     ]
    }
   ],
   "source": [
    "// get a 2D slice\n",
    "\n",
    "println(\"x.view(intArrayOf(0)) = ${x.view(intArrayOf(0))}\")\n",
    "println(\"x.view(intArrayOf(1)) = ${x.view(intArrayOf(1))}\")"
   ]
  },
  {
   "cell_type": "markdown",
   "metadata": {},
   "source": [
    "In all three cases, the `view()` function performed exactly the same as the index operator, `[]`."
   ]
  },
  {
   "cell_type": "markdown",
   "metadata": {},
   "source": [
    "### Using `view()` with an Axis\n",
    "\n",
    "The signature for this version of `view()` is:\n",
    "\n",
    "`fun DTensor.view(index: Int, axis: Int): DTensor`\n",
    "\n",
    "For a 3D tensor, this function returns a 2D array slice such that axis selected is fixed for the value of the index. Remember we start counting from 0. For the case of x.view(0,0) the first axis is selected and fixed to the value of zero. These are the equivalent values returned:\n",
    "\n",
    "`x[0,0,0] = 0`\n",
    "\n",
    "`x[0,0,1] = 1`\n",
    "\n",
    "`x[0,1,0] = 2`\n",
    "\n",
    "`x[0,1,1] = 3`\n",
    "\n",
    "Another example is x.view(1,2). The third axis is selected and fixed at the value 1. \n",
    "\n",
    "`x[0,0,1] = 2`\n",
    "\n",
    "`x[0,1,1] = 4`\n",
    "\n",
    "`x[1,0,1] = 6`\n",
    "\n",
    "`x[1,1,1] = 8`"
   ]
  },
  {
   "cell_type": "code",
   "execution_count": 15,
   "metadata": {},
   "outputs": [
    {
     "name": "stdout",
     "output_type": "stream",
     "text": [
      "x.view(0,0) = tensorOf(1.0f, 2.0f, 3.0f, 4.0f).reshape(Shape(2, 2))\n",
      "x.view(0,1) = tensorOf(1.0f, 2.0f, 5.0f, 6.0f).reshape(Shape(2, 2))\n",
      "x.view(0,2) = tensorOf(1.0f, 3.0f, 5.0f, 7.0f).reshape(Shape(2, 2))\n",
      "x.view(1,0) = tensorOf(5.0f, 6.0f, 7.0f, 8.0f).reshape(Shape(2, 2))\n",
      "x.view(1,1) = tensorOf(3.0f, 4.0f, 7.0f, 8.0f).reshape(Shape(2, 2))\n",
      "x.view(1,2) = tensorOf(2.0f, 4.0f, 6.0f, 8.0f).reshape(Shape(2, 2))\n"
     ]
    }
   ],
   "source": [
    "// 2D slice along an axis\n",
    "\n",
    "println(\"x.view(0,0) = ${x.view(0,0)}\")\n",
    "println(\"x.view(0,1) = ${x.view(0,1)}\")\n",
    "println(\"x.view(0,2) = ${x.view(0,2)}\")\n",
    "println(\"x.view(1,0) = ${x.view(1,0)}\")\n",
    "println(\"x.view(1,1) = ${x.view(1,1)}\")\n",
    "println(\"x.view(1,2) = ${x.view(1,2)}\")"
   ]
  },
  {
   "cell_type": "markdown",
   "metadata": {},
   "source": [
    "### Using `view()` with a index Being a Range\n",
    "\n",
    "This example is better explained with a larger 3x3x3 tensor.\n",
    "\n",
    "The signature for this version of `view()` is:\n",
    "\n",
    "`fun DTensor.view(index: IntRange, axis: Int): DTensor`\n",
    "\n",
    "This implementation of `view()` returns a 2D array slice but it can return one or more slices along the axis that is fixed by passing a range for the index for the slices. Because the function can return more that one slice, the returned tensor has the same rank, or number of dimensions, as the tensor being sliced. \n",
    "\n",
    "For example, when the range of the index is a single number then it is equivant the call to `view(index: Int, axis: Int)` with a single index,\n",
    "\n",
    "`x.view(0..0,0)` = `x.view(0,0)`\n",
    "\n",
    "except the returned tensor has Shape(1,3,3) instead of Shape(3,3).\n",
    "\n",
    "When the range has two numbers, 0..1, 1..2, then two slices are taken and returned in a tensor of Shape(2,3,3), Shape(3,2,3), or Shape(3,3,2), depending on the axis that was fixed.\n",
    "\n",
    "When the range equals the number of dimensions or rank of the tensor, 0..2, then the complete tensor of Shape(3,3,3) is returned."
   ]
  },
  {
   "cell_type": "markdown",
   "metadata": {},
   "source": [
    "### Example 3x3x3 Tensor"
   ]
  },
  {
   "cell_type": "code",
   "execution_count": 16,
   "metadata": {},
   "outputs": [],
   "source": [
    "// a larger tensor\n",
    "\n",
    "val x = tensorOf(1f, 2f, 3f, 4f, 5f, 6f, 7f, 8f, 9f, 10f, 11f, 12f, 13f, 14f, 15f, 16f, 17f, 18f, 19f, 20f, 21f, 22f, 23f, 24f, 25f, 26f, 27f).reshape(Shape(3,3,3))"
   ]
  },
  {
   "cell_type": "markdown",
   "metadata": {},
   "source": [
    "### Take One 2D Slice\n",
    "\n",
    "Take one 2D slice along the axis that is indicated."
   ]
  },
  {
   "cell_type": "code",
   "execution_count": 17,
   "metadata": {},
   "outputs": [
    {
     "name": "stdout",
     "output_type": "stream",
     "text": [
      "x.view(0..0,0) = tensorOf(1.0f, 2.0f, 3.0f, 4.0f, 5.0f, 6.0f, 7.0f, 8.0f, 9.0f).reshape(Shape(1, 3, 3))\n",
      "x.view(1..1,0) = tensorOf(10.0f, 11.0f, 12.0f, 13.0f, 14.0f, 15.0f, 16.0f, 17.0f, 18.0f).reshape(Shape(1, 3, 3))\n",
      "x.view(2..2,0) = tensorOf(19.0f, 20.0f, 21.0f, 22.0f, 23.0f, 24.0f, 25.0f, 26.0f, 27.0f).reshape(Shape(1, 3, 3))\n",
      "x.view(0..0,1) = tensorOf(1.0f, 2.0f, 3.0f, 10.0f, 11.0f, 12.0f, 19.0f, 20.0f, 21.0f).reshape(Shape(3, 1, 3))\n",
      "x.view(1..1,1) = tensorOf(4.0f, 5.0f, 6.0f, 13.0f, 14.0f, 15.0f, 22.0f, 23.0f, 24.0f).reshape(Shape(3, 1, 3))\n",
      "x.view(2..2,1) = tensorOf(7.0f, 8.0f, 9.0f, 16.0f, 17.0f, 18.0f, 25.0f, 26.0f, 27.0f).reshape(Shape(3, 1, 3))\n",
      "x.view(0..0,2) = tensorOf(1.0f, 4.0f, 7.0f, 10.0f, 13.0f, 16.0f, 19.0f, 22.0f, 25.0f).reshape(Shape(3, 3, 1))\n",
      "x.view(1..1,2) = tensorOf(2.0f, 5.0f, 8.0f, 11.0f, 14.0f, 17.0f, 20.0f, 23.0f, 26.0f).reshape(Shape(3, 3, 1))\n",
      "x.view(2..2,2) = tensorOf(3.0f, 6.0f, 9.0f, 12.0f, 15.0f, 18.0f, 21.0f, 24.0f, 27.0f).reshape(Shape(3, 3, 1))\n"
     ]
    }
   ],
   "source": [
    "// take one 2D slice\n",
    "\n",
    "println(\"x.view(0..0,0) = ${x.view(0..0,0)}\")\n",
    "println(\"x.view(1..1,0) = ${x.view(1..1,0)}\")\n",
    "println(\"x.view(2..2,0) = ${x.view(2..2,0)}\")\n",
    "println(\"x.view(0..0,1) = ${x.view(0..0,1)}\")\n",
    "println(\"x.view(1..1,1) = ${x.view(1..1,1)}\")\n",
    "println(\"x.view(2..2,1) = ${x.view(2..2,1)}\")\n",
    "println(\"x.view(0..0,2) = ${x.view(0..0,2)}\")\n",
    "println(\"x.view(1..1,2) = ${x.view(1..1,2)}\")\n",
    "println(\"x.view(2..2,2) = ${x.view(2..2,2)}\")"
   ]
  },
  {
   "cell_type": "markdown",
   "metadata": {},
   "source": [
    "### Take Two 2D Slices\n",
    "\n",
    "Take two 2D slices along the axis indicated."
   ]
  },
  {
   "cell_type": "code",
   "execution_count": 18,
   "metadata": {},
   "outputs": [
    {
     "name": "stdout",
     "output_type": "stream",
     "text": [
      "x.view(0..1,0) = tensorOf(\n",
      "1.0f, 2.0f, 3.0f, 4.0f, 5.0f, 6.0f, 7.0f, 8.0f, 9.0f, 10.0f,\n",
      "11.0f, 12.0f, 13.0f, 14.0f, 15.0f, 16.0f, 17.0f, 18.0f).reshape(Shape(2, 3, 3))\n",
      "x.view(1..2,0) = tensorOf(\n",
      "10.0f, 11.0f, 12.0f, 13.0f, 14.0f, 15.0f, 16.0f, 17.0f, 18.0f, 19.0f,\n",
      "20.0f, 21.0f, 22.0f, 23.0f, 24.0f, 25.0f, 26.0f, 27.0f).reshape(Shape(2, 3, 3))\n",
      "x.view(0..1,1) = tensorOf(\n",
      "1.0f, 2.0f, 3.0f, 4.0f, 5.0f, 6.0f, 10.0f, 11.0f, 12.0f, 13.0f,\n",
      "14.0f, 15.0f, 19.0f, 20.0f, 21.0f, 22.0f, 23.0f, 24.0f).reshape(Shape(3, 2, 3))\n",
      "x.view(1..2,1) = tensorOf(\n",
      "4.0f, 5.0f, 6.0f, 7.0f, 8.0f, 9.0f, 13.0f, 14.0f, 15.0f, 16.0f,\n",
      "17.0f, 18.0f, 22.0f, 23.0f, 24.0f, 25.0f, 26.0f, 27.0f).reshape(Shape(3, 2, 3))\n",
      "x.view(0..1,2) = tensorOf(\n",
      "1.0f, 2.0f, 4.0f, 5.0f, 7.0f, 8.0f, 10.0f, 11.0f, 13.0f, 14.0f,\n",
      "16.0f, 17.0f, 19.0f, 20.0f, 22.0f, 23.0f, 25.0f, 26.0f).reshape(Shape(3, 3, 2))\n",
      "x.view(1..2,2) = tensorOf(\n",
      "2.0f, 3.0f, 5.0f, 6.0f, 8.0f, 9.0f, 11.0f, 12.0f, 14.0f, 15.0f,\n",
      "17.0f, 18.0f, 20.0f, 21.0f, 23.0f, 24.0f, 26.0f, 27.0f).reshape(Shape(3, 3, 2))\n"
     ]
    }
   ],
   "source": [
    "// take two 2D slices\n",
    "\n",
    "println(\"x.view(0..1,0) = ${x.view(0..1,0)}\")\n",
    "println(\"x.view(1..2,0) = ${x.view(1..2,0)}\")\n",
    "println(\"x.view(0..1,1) = ${x.view(0..1,1)}\")\n",
    "println(\"x.view(1..2,1) = ${x.view(1..2,1)}\")\n",
    "println(\"x.view(0..1,2) = ${x.view(0..1,2)}\")\n",
    "println(\"x.view(1..2,2) = ${x.view(1..2,2)}\")"
   ]
  },
  {
   "cell_type": "markdown",
   "metadata": {},
   "source": [
    "### Take Three 2D Slices\n",
    "\n",
    "Take three 2D slices along the axis indicated. Regardless of the axis selected, the complete tensor is returned."
   ]
  },
  {
   "cell_type": "code",
   "execution_count": 19,
   "metadata": {},
   "outputs": [
    {
     "name": "stdout",
     "output_type": "stream",
     "text": [
      "x.view(0..2,0) = tensorOf(\n",
      "1.0f, 2.0f, 3.0f, 4.0f, 5.0f, 6.0f, 7.0f, 8.0f, 9.0f, 10.0f,\n",
      "11.0f, 12.0f, 13.0f, 14.0f, 15.0f, 16.0f, 17.0f, 18.0f, 19.0f, 20.0f,\n",
      "21.0f, 22.0f, 23.0f, 24.0f, 25.0f, 26.0f, 27.0f).reshape(Shape(3, 3, 3))\n",
      "x.view(0..2,1) = tensorOf(\n",
      "1.0f, 2.0f, 3.0f, 4.0f, 5.0f, 6.0f, 7.0f, 8.0f, 9.0f, 10.0f,\n",
      "11.0f, 12.0f, 13.0f, 14.0f, 15.0f, 16.0f, 17.0f, 18.0f, 19.0f, 20.0f,\n",
      "21.0f, 22.0f, 23.0f, 24.0f, 25.0f, 26.0f, 27.0f).reshape(Shape(3, 3, 3))\n",
      "x.view(0..2,2) = tensorOf(\n",
      "1.0f, 2.0f, 3.0f, 4.0f, 5.0f, 6.0f, 7.0f, 8.0f, 9.0f, 10.0f,\n",
      "11.0f, 12.0f, 13.0f, 14.0f, 15.0f, 16.0f, 17.0f, 18.0f, 19.0f, 20.0f,\n",
      "21.0f, 22.0f, 23.0f, 24.0f, 25.0f, 26.0f, 27.0f).reshape(Shape(3, 3, 3))\n"
     ]
    }
   ],
   "source": [
    "// take three 2D slices\n",
    "\n",
    "println(\"x.view(0..2,0) = ${x.view(0..2,0)}\")\n",
    "println(\"x.view(0..2,1) = ${x.view(0..2,1)}\")\n",
    "println(\"x.view(0..2,2) = ${x.view(0..2,2)}\")"
   ]
  },
  {
   "cell_type": "markdown",
   "metadata": {},
   "source": [
    "## The End"
   ]
  }
 ],
 "metadata": {
  "kernelspec": {
   "display_name": "Kotlin",
   "language": "kotlin",
   "name": "kotlin"
  },
  "language_info": {
   "codemirror_mode": "text/x-kotlin",
   "file_extension": ".kt",
   "mimetype": "text/x-kotlin",
   "name": "kotlin",
   "nbconvert_exporter": "",
   "pygments_lexer": "kotlin",
   "version": "1.7.0-dev-1825"
  }
 },
 "nbformat": 4,
 "nbformat_minor": 1
}