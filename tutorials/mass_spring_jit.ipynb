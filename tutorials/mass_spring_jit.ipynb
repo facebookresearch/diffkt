{
 "cells": [
  {
   "cell_type": "markdown",
   "metadata": {
    "pycharm": {
     "name": "#%% md\n"
    }
   },
   "source": [
    "# Just-In-Time (JIT) Notebook"
   ]
  },
  {
   "cell_type": "markdown",
   "metadata": {},
   "source": [
    "Copyright (c) Meta Platforms, Inc. and affiliates.\n",
    "\n",
    "This source code is licensed under the MIT license found in the\n",
    "LICENSE file in the root directory of this source tree."
   ]
  },
  {
   "cell_type": "markdown",
   "metadata": {},
   "source": [
    "## Introduction\n",
    "\n",
    "This notebook demonstrates the just-in-time (jit) api. The jit api produces a optimized version of **DiffKt** code. This is useful for when you repeatedly call a function. On the first call to a jitted function, an optimized version is created. On subsequent calls, the optimized version is called, which should result in a speed up of the program."
   ]
  },
  {
   "cell_type": "markdown",
   "metadata": {},
   "source": [
    "## Jit Tips and Tricks\n",
    "\n",
    "There are lots of subtle things you need to get right to take full advantage of the jit:\n",
    "\n",
    "Make sure there is a good `equals()` and `hashCode()` function for the jitted function's input type. The jit cache needs that.\n",
    "\n",
    "For the purposes of the jit, wrapping more of the input is better. For example, if you have some inputs that are not active variables of differentiation inside the body of the jitted function, it is still valuable to wrap them for the purposes of the jit so that you will get a cache hit when the values change. That means you may want to use a different (explicit) wrapInput lambda when taking the derivative.\n",
    "\n",
    "Don't use mutable variables from an enclosing scope. If they are var variables (i.e. they don't change) that is OK, but if the value might change from call to call of the jitted function, they should be explicit inputs to the function.\n",
    "\n",
    "Don't have side-effects in the jitted function; it should be a pure function. That means no print statements, random number generation, or taking the time of day."
   ]
  },
  {
   "cell_type": "markdown",
   "metadata": {
    "pycharm": {
     "name": "#%% md\n"
    }
   },
   "source": [
    "### Housekeeping"
   ]
  },
  {
   "cell_type": "code",
   "execution_count": 1,
   "metadata": {
    "pycharm": {
     "name": "#%%\n"
    },
    "scrolled": false
   },
   "outputs": [],
   "source": [
    "@file:DependsOn(\"../kotlin/api/build/libs/api.jar\")\n",
    "@file:DependsOn(\"net.bytebuddy:byte-buddy:LATEST\")"
   ]
  },
  {
   "cell_type": "code",
   "execution_count": 2,
   "metadata": {
    "pycharm": {
     "name": "#%%\n"
    },
    "scrolled": false
   },
   "outputs": [
    {
     "data": {
      "text/html": [
       "   <div id=\"lnPBCY\"></div>\n",
       "   <script type=\"text/javascript\" data-lets-plot-script=\"library\">\n",
       "       if(!window.letsPlotCallQueue) {\n",
       "           window.letsPlotCallQueue = [];\n",
       "       }; \n",
       "       window.letsPlotCall = function(f) {\n",
       "           window.letsPlotCallQueue.push(f);\n",
       "       };\n",
       "       (function() {\n",
       "           var script = document.createElement(\"script\");\n",
       "           script.type = \"text/javascript\";\n",
       "           script.src = \"https://cdn.jsdelivr.net/gh/JetBrains/lets-plot@v2.4.0/js-package/distr/lets-plot.min.js\";\n",
       "           script.onload = function() {\n",
       "               window.letsPlotCall = function(f) {f();};\n",
       "               window.letsPlotCallQueue.forEach(function(f) {f();});\n",
       "               window.letsPlotCallQueue = [];\n",
       "               \n",
       "               \n",
       "           };\n",
       "           script.onerror = function(event) {\n",
       "               window.letsPlotCall = function(f) {};\n",
       "               window.letsPlotCallQueue = [];\n",
       "               var div = document.createElement(\"div\");\n",
       "               div.style.color = 'darkred';\n",
       "               div.textContent = 'Error loading Lets-Plot JS';\n",
       "               document.getElementById(\"lnPBCY\").appendChild(div);\n",
       "           };\n",
       "           var e = document.getElementById(\"lnPBCY\");\n",
       "           e.appendChild(script);\n",
       "       })();\n",
       "   </script>"
      ]
     },
     "metadata": {},
     "output_type": "display_data"
    }
   ],
   "source": [
    "%useLatestDescriptors\n",
    "%use lets-plot"
   ]
  },
  {
   "cell_type": "markdown",
   "metadata": {
    "pycharm": {
     "name": "#%% md\n"
    }
   },
   "source": [
    "### Imports"
   ]
  },
  {
   "cell_type": "code",
   "execution_count": 3,
   "metadata": {
    "pycharm": {
     "name": "#%%\n"
    }
   },
   "outputs": [],
   "source": [
    "import org.diffkt.*\n",
    "import java.util.Vector\n",
    "import jetbrains.letsPlot.intern.Plot\n",
    "import org.diffkt.tracing.*"
   ]
  },
  {
   "cell_type": "markdown",
   "metadata": {
    "pycharm": {
     "name": "#%% md\n"
    }
   },
   "source": [
    "## The Model\n",
    "\n",
    "We will reuse the complex mass-spring model for the mass-spring notebook\n",
    "\n",
    "The complex mass-spring model has four masses, two non-movable masses and two moveable masses, and three springs. There are two non-moveable masses connected by springs to a movable mass. Below the movable mass is a spring and a second movable mass. The movable masses are initially place to the left, so motion results in both the x and y axis. The folowing is a picture of the complex mass-spring model.\n",
    "\n",
    "![Complex Mass-Spring Model](resources/complex_mass_spring.png)\n",
    "\n",
    "\n"
   ]
  },
  {
   "cell_type": "markdown",
   "metadata": {
    "pycharm": {
     "name": "#%% md\n"
    }
   },
   "source": [
    "### Constants"
   ]
  },
  {
   "cell_type": "code",
   "execution_count": 4,
   "metadata": {
    "pycharm": {
     "name": "#%%\n"
    }
   },
   "outputs": [],
   "source": [
    "// Constants\n",
    "\n",
    "object Constants {\n",
    "   \n",
    "// Physical Properties\n",
    "    \n",
    "    val defaultMass = FloatScalar(1f)\n",
    "    val defaultRestingLength = FloatScalar(1f)\n",
    "    val defaultDampen = FloatScalar(.9995f) \n",
    "    val ground = FloatScalar(0f)\n",
    "    val gravityConstant = FloatScalar(9.8f)\n",
    "    val hooksConstant = FloatScalar(600f)\n",
    "    val velocityScaling = 10\n",
    "    val accelerationScaling = 100\n",
    "    val dt = FloatScalar(.00025f)\n",
    "    \n",
    "// Plotting \n",
    "    \n",
    "    val xGraphTitle =             \"X vs Time\"\n",
    "    val xPositionAxisLable =      \"X Position\"\n",
    "    val xVelocityAxisLable =      \"X Velocity\"       \n",
    "    val xAccelerationAxisLable =  \"X Acceleration\"\n",
    "        \n",
    "    val yGraphTitle =             \"Y  vs Time\"\n",
    "    val yPositionAxisLable =      \"Y Position\"\n",
    "    val yVelocityAxisLable =      \"Y Velocity\"       \n",
    "    val yAccelerationAxisLable =  \"Y Acceleration\"\n",
    "    val timeAxisLable =           \"Time\"\n",
    "    \n",
    "}"
   ]
  },
  {
   "cell_type": "markdown",
   "metadata": {
    "pycharm": {
     "name": "#%% md\n"
    }
   },
   "source": [
    "### The Vector2 Coordinates\n",
    "\n",
    "The `Vector2` class is used to hold the values of the x and y position coordinates. It is also use for velocity, acceleration, and the derivatives of the position. This class demonstrate using operator overloading with complex data types.\n",
    "\n",
    "The `Vector2` class inherits from the Differentiable<T> interface. The `Vector2` class wraps both the x and y variables.\n",
    "    \n",
    "Tips for jitting a class, classes need to be uniquely identified with the `hashCode()` and the `equals()` functions."
   ]
  },
  {
   "cell_type": "code",
   "execution_count": 5,
   "metadata": {
    "pycharm": {
     "name": "#%%\n"
    }
   },
   "outputs": [],
   "source": [
    "// class Vector2\n",
    "\n",
    "open class Vector2(val x: DScalar, val y: DScalar) : Differentiable<Vector2> {\n",
    "    \n",
    "    constructor(x: Float, y: Float): this(FloatScalar(x), FloatScalar(y))\n",
    "    \n",
    "    // tip for using jit, make sure hashCode() is unique\n",
    "    \n",
    "    override fun hashCode(): Int = combineHash(\"Vector2\")\n",
    "    \n",
    "    // tip for using jit, make sure equals() means the hashCode() of two object are the same\n",
    "    \n",
    "    override fun equals(other: Any?): Boolean = other.hashCode() == hashCode()\n",
    "    \n",
    "    override fun wrap(wrapper: Wrapper) : Vector2 {\n",
    "        return Vector2(wrapper.wrap(x), wrapper.wrap(y))\n",
    "    }\n",
    "    \n",
    "    operator fun unaryMinus(): Vector2 {\n",
    "        return Vector2(-x, -y)\n",
    "    }\n",
    "    \n",
    "    operator fun plus(b: Vector2): Vector2 {\n",
    "        return Vector2(x + b.x, y + b.y)\n",
    "    }\n",
    "    \n",
    "    operator fun minus(b: Vector2): Vector2 {\n",
    "        return Vector2(x - b.x, y - b.y)\n",
    "    }\n",
    "    \n",
    "    operator fun times(c: Float) : Vector2 {\n",
    "        return Vector2(c * x, c * y)\n",
    "    }\n",
    "    \n",
    "    operator fun times(c: DScalar) : Vector2 {\n",
    "        return Vector2(c * x, c * y)\n",
    "    }\n",
    "    \n",
    "    operator fun div(c: Float) : Vector2 {\n",
    "        return Vector2(x / c, y / c)\n",
    "    }\n",
    "    \n",
    "    operator fun div(c: DScalar) : Vector2 {\n",
    "        return Vector2(x / c, y / c)\n",
    "    }\n",
    "    \n",
    "    fun norm(): DScalar {\n",
    "        return (x * x + y * y).pow(0.5f)\n",
    "    }\n",
    "}"
   ]
  },
  {
   "cell_type": "markdown",
   "metadata": {
    "pycharm": {
     "name": "#%% md\n"
    }
   },
   "source": [
    "### Spring\n",
    "\n",
    "A `Spring` is connected to two masses. Every `Spring` object has an `id`. A `Spring` object connects to a left `Mass` object and a right `Mass` object, regardless of the actual orientation. A `Spring` object has a resting length set to the `defaultRestingLength` constant when the `MassStringSystem` is constructed.\n",
    "\n",
    "The `Spring` class is not a differentiable class in **DiffKt**"
   ]
  },
  {
   "cell_type": "code",
   "execution_count": 6,
   "metadata": {
    "pycharm": {
     "name": "#%%\n"
    }
   },
   "outputs": [],
   "source": [
    "// Spring\n",
    "\n",
    "data class Spring(val id : Int,\n",
    "                  val leftMassId : Int,\n",
    "                  val rightMassId : Int,\n",
    "                  val restingLength : FloatScalar)"
   ]
  },
  {
   "cell_type": "markdown",
   "metadata": {
    "pycharm": {
     "name": "#%% md\n"
    }
   },
   "source": [
    "### Mass\n",
    "\n",
    "Every `Mass` object has an `id`. A Mass object can be `movable` or non-`movable`. A `Mass` object has a `mass`. A `Mass` object has a list of `Spring` objects that connect it to other `Mass` objects. The `Mass` object is evaluated at a particular time. At the time evaluated, it has a position, velocity, and acceleration for both the x and y axis. For a non-movable `Mass` object, the position is set at the initalization of the `Mass` object, and the velocity and acceleration are zero. \n",
    "\n",
    "The class `Mass` inherits from the `Differentiable<T>` interface. The position of a `Mass` object is a differentiable variable for **DiffKt**. The velocity and acceleration are not differentiable variables. A `Mass` object can be initialized with either `DScalars` or `Floats`. Since the class `Mass` inherits from the `Differentiable<T>` interface, it overides the `wrap` function, and calls `wrap` on the differentiable variables `xPosition` and `yPosition`. The other variables are ignored by **DiffKt** because they are not wrapped.\n",
    "\n",
    "Tips for jitting a class, classes need to be uniquely identified with the `hashCode()` and the `equals()` functions. Also note, all the `Float` variable are implemented as `DScalar` and wrapped in the `wrap()` function."
   ]
  },
  {
   "cell_type": "code",
   "execution_count": 7,
   "metadata": {
    "pycharm": {
     "name": "#%%\n"
    }
   },
   "outputs": [],
   "source": [
    "// Mass\n",
    "\n",
    "class Mass( val id : Int,\n",
    "            val time : DScalar = FloatScalar(0f),\n",
    "            val step : DScalar = FloatScalar(0f),\n",
    "            val movable : Boolean = false,\n",
    "            val mass : DScalar = FloatScalar(1f),\n",
    "            val springList : List<Spring>, \n",
    "            val position : Vector2 = Vector2(0f, 0f),                   \n",
    "            val velocity : Vector2 = Vector2(0f, 0f),\n",
    "            val acceleration : Vector2 = Vector2(0f, 0f)) : Differentiable<Mass> {\n",
    "  \n",
    "    // Alternative Constructor\n",
    "    \n",
    "    constructor(id : Int,\n",
    "                time : Float = 0f,\n",
    "                step : Float = 0f,\n",
    "                movable : Boolean = false,\n",
    "                mass : Float = 1f,\n",
    "                springList : List<Spring>,\n",
    "                xPosition : Float = 0f,\n",
    "                xVelocity : Float = 0f,\n",
    "                xAcceleration : Float = 0f,\n",
    "                yPosition : Float = 0f,\n",
    "                yVelocity : Float = 0f,\n",
    "                yAcceleration : Float = 0f) : this ( id,\n",
    "                                                FloatScalar(time),\n",
    "                                                FloatScalar(step),\n",
    "                                                movable,\n",
    "                                                FloatScalar(mass),\n",
    "                                                springList,\n",
    "                                                Vector2(xPosition, yPosition),\n",
    "                                                Vector2(xVelocity, yVelocity),\n",
    "                                                Vector2(xAcceleration, yAcceleration))\n",
    "    \n",
    "    // tip for using jit, make sure hashCode() is unique\n",
    "    override fun hashCode(): Int = combineHash(\"Mass\")\n",
    "\n",
    "    // tip for using jit, make sure equals() means the hashCode() of two object are the same\n",
    "    override fun equals(other: Any?): Boolean = other.hashCode() == hashCode()\n",
    "                                                \n",
    "    // tip for using jit, wrap as many of the variables to speed up jit\n",
    "    override fun wrap(wrapper : Wrapper) : Mass {\n",
    "        return Mass(id,\n",
    "                    wrapper.wrap(time),\n",
    "                    wrapper.wrap(step),\n",
    "                    movable,\n",
    "                    wrapper.wrap(mass),\n",
    "                    springList,\n",
    "                    wrapper.wrap(position), // wrapped\n",
    "                    wrapper.wrap(velocity),\n",
    "                    wrapper.wrap(acceleration))\n",
    "    }\n",
    "       \n",
    "}"
   ]
  },
  {
   "cell_type": "markdown",
   "metadata": {
    "pycharm": {
     "name": "#%% md\n"
    }
   },
   "source": [
    "### Energy Calculations\n",
    "\n",
    "There are two forces acting on a mass, the force of gravity and the force of the springs attached to the mass. The force of gravity only acts on the y axis of a mass. The spring force is modeled as a Hookean spring force. The spring force can act in both the x and y axes. The forces are only applied if the mass is a movable mass. If the masses are non-movable, there are no forces or energy calculated. \n",
    "\n",
    "The energy from these forces is the integral of the forces. The energies for a mass are additive.\n",
    "\n",
    "#### Gravitational Energy\n",
    "The equation for the gravity energy is\n",
    "\n",
    "$energy = (y - y_0) * g * mass$\n",
    "\n",
    "where $y_0$ is the ground, which is zero, and $g$ is the force of gravity, 9.8N.\n",
    "\n",
    "#### Spring Energy\n",
    "The equation for the spring energy is more complicated, a spring energy is calculated for each spring connected to a mass.\n",
    "\n",
    "$energy = 0.5 * h * \\Delta l^2$\n",
    "\n",
    "where $h$ is Hooks constant, and $\\Delta l$ = the length between the two masses minus the resting length. Note, the length of the spring can not be less than the resting length of the spring and $\\Delta l$ can not be less than zero.\n",
    "\n",
    "#### Total Energy\n",
    "The total energy is the gravitational energy of a mass plus the spring energy of each spring connected to the mass."
   ]
  },
  {
   "cell_type": "code",
   "execution_count": 8,
   "metadata": {
    "pycharm": {
     "name": "#%%\n"
    }
   },
   "outputs": [],
   "source": [
    "// Energy Calculations\n",
    "\n",
    "object EnergyCalculations {\n",
    "    \n",
    "    // Gravity Energy \n",
    "    \n",
    "    fun gravitationalEnergy(id : Int, ml : List<Mass>) : DScalar {\n",
    "        \n",
    "        val energy = if (ml[id].movable) {\n",
    "                (ml[id].position.y - Constants.ground) * Constants.gravityConstant * ml[id].mass\n",
    "            } else {\n",
    "                FloatScalar(0f) as DScalar\n",
    "            }\n",
    "        \n",
    " \n",
    "        return energy\n",
    "    }\n",
    "\n",
    "    // Spring Energy\n",
    "    \n",
    "    fun springEnergy( id : Int, ml : List<Mass>) : DScalar {\n",
    "        \n",
    "        val energy = if (ml[id].movable) {\n",
    "            ml[id].springList.fold(FloatScalar(0f) as DScalar) { accumulatedEnergy, spring ->\n",
    "                \n",
    "                    val leftMassPosition = ml[spring.leftMassId]\n",
    "                    val rightMassPosition = ml[spring.rightMassId]\n",
    "            \n",
    "                    val deltaPosition = leftMassPosition.position - rightMassPosition.position\n",
    "                    val length = deltaPosition.norm()\n",
    "                    \n",
    "                    // Note the spring can not become shorter than it resting length\n",
    "                    \n",
    "                    val deltaSpring = length - spring.restingLength\n",
    "\n",
    "                    val deltaLength = deltaSpring\n",
    "        \n",
    "                    val potentialEnergy =  FloatScalar(0.5f) * Constants.hooksConstant * deltaLength.pow(2f)\n",
    "                    \n",
    "                    accumulatedEnergy + potentialEnergy\n",
    "                } \n",
    "            } else { \n",
    "                FloatScalar(0f) as DScalar\n",
    "            }\n",
    "               \n",
    "        return energy\n",
    "    }\n",
    "\n",
    "    // Total Energy\n",
    "    \n",
    "    fun totalEnergy(id : Int, ml : List<Mass>) : DScalar {\n",
    "                \n",
    "        val gEnergy = gravitationalEnergy(id, ml)\n",
    "        val sEnergy = springEnergy(id, ml)  \n",
    "        val total = gEnergy + sEnergy\n",
    "\n",
    "        return total\n",
    "    }\n",
    "}"
   ]
  },
  {
   "cell_type": "markdown",
   "metadata": {
    "pycharm": {
     "name": "#%% md\n"
    }
   },
   "source": [
    "### The Mass-Spring System\n",
    "\n",
    "The `MassSpringSystem` class contains a list of all `Mass` objects in the system, with their associated `Spring` objects. The `MassSpringSystem` class implements the `Differentiable<T>` interface. Since the `MassSpringClass` inherits from the `Differentiable<T>` interface, it overrides the `wrap` function and calls `wrap` on a `List` of `Mass` objects. `List` implements the `Differentiable<T>` interface in **DiffKt** and is an internal data structure in **DiffKt**. `Mass` was written to implement the `Differentiable<T>` interface.\n",
    "    \n",
    "The `totalSystemEnergy` is the sum of all the energies associated with every `Mass`.\n",
    "\n",
    "Tip for jitting a function, objects need to be uniquely identified with the `hashCode()` and `equals()` functions."
   ]
  },
  {
   "cell_type": "code",
   "execution_count": 9,
   "metadata": {
    "pycharm": {
     "name": "#%%\n"
    }
   },
   "outputs": [],
   "source": [
    "// MassSpringSystem class\n",
    "\n",
    "class MassSpringSystem(val massList : List<Mass>) : Differentiable<MassSpringSystem> {\n",
    "    \n",
    "    override fun hashCode(): Int = combineHash(\"MassSpringSystem\")\n",
    "    \n",
    "    override fun equals(other: Any?): Boolean = other.hashCode() == hashCode()\n",
    "    \n",
    "    override fun wrap(wrapper : Wrapper) : MassSpringSystem {\n",
    "        return MassSpringSystem(wrapper.wrap(massList))\n",
    "    }\n",
    "         \n",
    "    fun totalSystemEnergy(massList : List<Mass>) : DScalar {\n",
    "           \n",
    "        // Sums the energy of each Mass\n",
    "        val totalSystemEnergy =  massList.fold(FloatScalar(0f) as DScalar) \n",
    "            {accumulatedEnergy, mass ->\n",
    "                accumulatedEnergy + EnergyCalculations.totalEnergy(mass.id, massList)}\n",
    "        \n",
    "        return totalSystemEnergy            \n",
    "    }\n",
    "}"
   ]
  },
  {
   "cell_type": "markdown",
   "metadata": {
    "pycharm": {
     "name": "#%% md\n"
    }
   },
   "source": [
    "### Derivatives\n",
    "\n",
    "The x and y derivatives of the position of a `Mass` are kept in the instances `MassDerivatives` class. The `TotalDerivates` class hold a `List` of `MassDerivatives` to collect all the derivatives from all the `Mass` instances. "
   ]
  },
  {
   "cell_type": "code",
   "execution_count": 10,
   "metadata": {
    "pycharm": {
     "name": "#%%\n"
    }
   },
   "outputs": [],
   "source": [
    "// Derivatives of the x & y position of a single Mass\n",
    "class MassDerivatives(x : DScalar, y : DScalar) : Vector2(x, y)\n",
    "    \n",
    "// Derivatives of all the Masses in the system\n",
    "data class TotalDerivatives(val d : List<MassDerivatives>)"
   ]
  },
  {
   "cell_type": "markdown",
   "metadata": {
    "pycharm": {
     "name": "#%% md\n"
    }
   },
   "source": [
    "### Calculating the Derivatives\n",
    "\n",
    "The `calculateDerivatives()` function calls the `primalAndReverseDerivatives()` function, the automatic differentiation function for user defined types. The user define types are the `x` and `y` position, variables in a `Vector2` class, which is also differentiable. The `Mass` instances are user defined types and differentiable. The `List` that holds the `Mass` instances, and the `MassSpringSystem` instance are differentiable. The function to be differentiated is `system::totalSystemEnergy`, which is the energy function for the system. A custom function `makeDerivative` extracts the derivatives for each `x` and `y` position of a `Mass` instance.\n"
   ]
  },
  {
   "cell_type": "code",
   "execution_count": 11,
   "metadata": {
    "pycharm": {
     "name": "#%%\n"
    }
   },
   "outputs": [],
   "source": [
    "// Calculate the derivatives of the energy of the system\n",
    "\n",
    "object Derivatives {\n",
    "    \n",
    "    // Extract the derivatives of each variable in the system\n",
    "    \n",
    "    fun makeDerivatives(input : List<Mass>, output : DScalar, \n",
    "                        extractDerivative: (DTensor, DTensor) -> DTensor) : TotalDerivatives {\n",
    "        \n",
    "        val listMassDerivatives = input.map {\n",
    "            val dmassDx = extractDerivative(it.position.x, output) as DScalar\n",
    "            val dmassDy = extractDerivative(it.position.y, output) as DScalar\n",
    "            MassDerivatives(dmassDx, dmassDy)\n",
    "        }\n",
    "        \n",
    "        return TotalDerivatives(listMassDerivatives)\n",
    "    }\n",
    "    \n",
    "    // Calculate the derivatives of the total energy of the system\n",
    "    \n",
    "    fun calculateDerivatives(system : MassSpringSystem) : TotalDerivatives {\n",
    "        \n",
    "        return primalAndReverseDerivative(\n",
    "                    x = system.massList,\n",
    "                    f = system::totalSystemEnergy,\n",
    "                    extractDerivative = ::makeDerivatives).second  \n",
    "    }\n",
    "    \n",
    "}"
   ]
  },
  {
   "cell_type": "markdown",
   "metadata": {
    "pycharm": {
     "name": "#%% md\n"
    }
   },
   "source": [
    "### Numerical Integration of the ODEs\n",
    "\n",
    "This is the section that demonstrates using jit. The function that is jitted is the `Derivatives::calculateDerivatives()` function. A wrapper to measure the time of the function is added. Notice the time is longer on the first call, where an optimized version of the function is created, than on subsequent calls. The subsequent calls are magnitudes faster in time.\n",
    "\n",
    "The solution for a Mass-Spring System is solved using the forward Euler method for solving ordinary differental equations (ODE). It is probably one of the least desired algorithms for solving ordinary differential equations, it can be unstable and slow, but it is very simple and easy to show as an example.\n",
    "\n",
    "The forward Euler algorithm to solve an ode $f()$ is \n",
    "\n",
    "$y_{n+1} = y_n + h*f(y_n)$\n",
    "\n",
    "where\n",
    "$n$ is the time step, and\n",
    "$h$ is the time step size.\n",
    "\n",
    "The `systemAcceleration` is the derivative of the energy of each movable mass.<br>\n",
    "\n",
    "The `acceleration` is the `-x` and `-y` derivative of a mass energy divided by the weight of the mass.<br>\n",
    "The `velocity` is updated by adding the current `velocity` to `acceleration` times`dt`. The resulting velocity is then multiplied by a dampening constant.<br>\n",
    "The `position` is updated by adding the current `position` to `velocity` times `dt`.\n",
    "\n",
    "The `integrate()` function integrates the equations across time, and saves the system state at each time step. "
   ]
  },
  {
   "cell_type": "markdown",
   "metadata": {},
   "source": [
    "### JIT\n",
    "\n",
    "The function that is jitted is `Derivative::calculateDerivatives()`. This is a wrapper around `primalAndReverseDerivative()`. The jitting is set up in the `integrate()` function. This function has to be called for each integration step. There is some timing wrapped around the function call so you can see two things: the jitted function is faster than the non-jitted function, and the first call to the jitted function is slower than the rest of the function call. This may be difficult to see because the first time either the jitted or non-jitted function is called is slower than the subsequent calls because of JVM optimizations as the code is executed. The timing for the first twenty steps and the last twenty steps is printed out."
   ]
  },
  {
   "cell_type": "code",
   "execution_count": 12,
   "metadata": {
    "pycharm": {
     "name": "#%%\n"
    }
   },
   "outputs": [],
   "source": [
    "// Forward Euler ODE Solver\n",
    "\n",
    "class ForwardEulerSolver() {\n",
    "    \n",
    "    // Solver the ODEs for one step\n",
    "    \n",
    "    fun integrateOneStep(system: MassSpringSystem, systemAcceleration : TotalDerivatives) : MassSpringSystem {\n",
    "       \n",
    "        fun newState(p : Mass, acc : MassDerivatives) : Mass {\n",
    "             \n",
    "            val acceleration = if (p.movable) {-acc / p.mass } else Vector2(0f, 0f)\n",
    "            val velocity =     if (p.movable) {(p.velocity + (p.acceleration * Constants.dt)) * Constants.defaultDampen } else Vector2(0f, 0f)\n",
    "            val position =     if (p.movable) {p.position + (p.velocity * Constants.dt)} else p.position\n",
    "            \n",
    "            val newStep  = (p.step + FloatScalar(1f))\n",
    "            \n",
    "            return Mass (id = p.id,\n",
    "                         step = newStep,\n",
    "                         time = (newStep * Constants.dt.value),\n",
    "                         movable = p.movable,\n",
    "                         mass = p.mass,\n",
    "                         springList = p.springList,\n",
    "                         position = position,\n",
    "                         velocity = velocity,\n",
    "                         acceleration = acceleration) \n",
    "        }  \n",
    "        \n",
    "        val massList = system.massList.mapIndexed{idx, mass -> newState(mass, systemAcceleration.d[idx])}\n",
    "        \n",
    "        // returns the new state of the system\n",
    "        \n",
    "        return MassSpringSystem(massList)\n",
    "\n",
    "    }\n",
    "    \n",
    "    // Solve the ODEs for a fixed length of time\n",
    "    \n",
    "    fun integrate(system : MassSpringSystem, time : Float, jit : Boolean) : List<MassSpringSystem> {\n",
    "        \n",
    "        val steps = ((FloatScalar(time) / Constants.dt) as FloatScalar).value.toInt()\n",
    "        val numSteps = 1..steps\n",
    "        \n",
    "        val calcDerivatives = if (jit == true) {jit(Derivatives::calculateDerivatives)} else {Derivatives::calculateDerivatives}\n",
    "        \n",
    "        fun timedCalcDerivatives(newSystem : MassSpringSystem, calc : (MassSpringSystem) -> TotalDerivatives) : TotalDerivatives {    \n",
    "            \n",
    "            var totalDerivatives : TotalDerivatives \n",
    "            val step = (newSystem.massList[0].step as FloatScalar).value\n",
    "            \n",
    "            if (step <= 20) {      \n",
    "                val elapsed = kotlin.system.measureNanoTime { \n",
    "                    totalDerivatives = calc(newSystem)\n",
    "                }\n",
    "                \n",
    "                val formattedElapsed = String.format(\"%8f\" , elapsed / 1000000000.0 )\n",
    "                println(\"step ${step} - ${formattedElapsed} sec\")\n",
    "            } else if (step > (steps - 20)) {\n",
    "                \n",
    "                val elapsed = kotlin.system.measureNanoTime { \n",
    "                    totalDerivatives = calc(newSystem)\n",
    "                }\n",
    "                \n",
    "                val formattedElapsed = String.format(\"%8f\" , elapsed / 1000000000.0 )\n",
    "                println(\"step ${step} - ${formattedElapsed} sec\")\n",
    "            } else {\n",
    "               totalDerivatives = calc(newSystem) \n",
    "            }\n",
    "            \n",
    "            return totalDerivatives\n",
    "        }\n",
    "        \n",
    "        // Save the system state of each step in observations\n",
    "        val observations = numSteps.runningFold(system) {newSystem, _ -> integrateOneStep(newSystem, timedCalcDerivatives(newSystem, calcDerivatives)) }\n",
    "        \n",
    "        return observations\n",
    "    }\n",
    "}"
   ]
  },
  {
   "cell_type": "markdown",
   "metadata": {
    "pycharm": {
     "name": "#%% md\n"
    }
   },
   "source": [
    "### Complex Mass-Spring System\n",
    "\n",
    "![Complex Mass-Spring System](resources/complex_mass_spring.png)\n",
    "\n",
    "The complex mass-spring system has four masses and three springs. The top two masses are non-movable. The bottom two masses are movable. The system is initialized with the two movable masses pulled to the left to cause motion in the x axis, as well as the y axis."
   ]
  },
  {
   "cell_type": "code",
   "execution_count": 13,
   "metadata": {
    "pycharm": {
     "name": "#%%\n"
    }
   },
   "outputs": [],
   "source": [
    "// Complex Mass-Spring System\n",
    "\n",
    "object SystemBuild {\n",
    "    \n",
    "    fun fourMassThreeSpring() : MassSpringSystem {\n",
    "                \n",
    "        val spring0 = Spring(id = 0,\n",
    "                             leftMassId = 0,\n",
    "                             rightMassId = 2,\n",
    "                             restingLength = Constants.defaultRestingLength)\n",
    "    \n",
    " \n",
    "        \n",
    "        val spring1 = Spring(id = 1,\n",
    "                             leftMassId = 1,\n",
    "                             rightMassId = 2,\n",
    "                             restingLength = Constants.defaultRestingLength)\n",
    "        \n",
    " \n",
    "        \n",
    "        val spring2 = Spring(id = 2,\n",
    "                             leftMassId = 2,\n",
    "                             rightMassId = 3,\n",
    "                             restingLength = Constants.defaultRestingLength)\n",
    "                \n",
    "        val springList0 = listOf(spring0)\n",
    "        \n",
    "        val springList1 = listOf(spring1)\n",
    "        \n",
    "        val springList2 = listOf(spring0, spring1, spring2)\n",
    "        \n",
    "        val springList3 = listOf(spring2)\n",
    "        \n",
    "\n",
    "        val mass0 = Mass(id = 0,    \n",
    "                         movable = false,\n",
    "                         mass = 1f,\n",
    "                         springList = springList0,\n",
    "                         yPosition = 20f)\n",
    "\n",
    "\n",
    "        val mass1 = Mass(id = 1,    \n",
    "                         movable = false,\n",
    "                         mass = 1f,\n",
    "                         springList = springList1,\n",
    "                         xPosition = 5f,    \n",
    "                         yPosition = 20f)          \n",
    "        \n",
    "        val mass2 = Mass(id = 2,    \n",
    "                         movable = true,\n",
    "                         mass = 1f,\n",
    "                         springList = springList2,\n",
    "                         yPosition = 16f)\n",
    "        \n",
    "        val mass3 = Mass(id = 3,    \n",
    "                         movable = true,\n",
    "                         mass = 1f,\n",
    "                         springList = springList3,\n",
    "                         yPosition = 12f)\n",
    "\n",
    "\n",
    "\n",
    "        \n",
    "\n",
    "        return MassSpringSystem(listOf(mass0, mass1, mass2, mass3))\n",
    " \n",
    "    }\n",
    "}"
   ]
  },
  {
   "cell_type": "markdown",
   "metadata": {
    "pycharm": {
     "name": "#%% md\n"
    }
   },
   "source": [
    "### Simulation of Complex Mass-Spring System\n",
    "\n",
    "The simulation of the complex mass-spring system is for 100 seconds. First, a complex mass-spring system is created. Next, a solver. Lastly, the solver is integrated for five seconds, and the results are plotted. `dt` is set in the constants for a 0.00025 second step size."
   ]
  },
  {
   "cell_type": "markdown",
   "metadata": {},
   "source": [
    "### Non-jitted Simulation\n",
    "\n",
    "Note, jit is set to false."
   ]
  },
  {
   "cell_type": "code",
   "execution_count": 14,
   "metadata": {
    "pycharm": {
     "name": "#%%\n"
    }
   },
   "outputs": [
    {
     "name": "stdout",
     "output_type": "stream",
     "text": [
      "step 0.0 - 0.047710 sec\n",
      "step 1.0 - 0.003520 sec\n",
      "step 2.0 - 0.001328 sec\n",
      "step 3.0 - 0.001267 sec\n",
      "step 4.0 - 0.001303 sec\n",
      "step 5.0 - 0.002055 sec\n",
      "step 6.0 - 0.001323 sec\n",
      "step 7.0 - 0.001637 sec\n",
      "step 8.0 - 0.001144 sec\n",
      "step 9.0 - 0.001240 sec\n",
      "step 10.0 - 0.001230 sec\n",
      "step 11.0 - 0.001466 sec\n",
      "step 12.0 - 0.001095 sec\n",
      "step 13.0 - 0.001108 sec\n",
      "step 14.0 - 0.000987 sec\n",
      "step 15.0 - 0.001495 sec\n",
      "step 16.0 - 0.001531 sec\n",
      "step 17.0 - 0.001516 sec\n",
      "step 18.0 - 0.001603 sec\n",
      "step 19.0 - 0.001683 sec\n",
      "step 20.0 - 0.001124 sec\n",
      "step 399980.0 - 0.000073 sec\n",
      "step 399981.0 - 0.000141 sec\n",
      "step 399982.0 - 0.000129 sec\n",
      "step 399983.0 - 0.000128 sec\n",
      "step 399984.0 - 0.000135 sec\n",
      "step 399985.0 - 0.000107 sec\n",
      "step 399986.0 - 0.000098 sec\n",
      "step 399987.0 - 0.000210 sec\n",
      "step 399988.0 - 0.000109 sec\n",
      "step 399989.0 - 0.000100 sec\n",
      "step 399990.0 - 0.000176 sec\n",
      "step 399991.0 - 0.000105 sec\n",
      "step 399992.0 - 0.000107 sec\n",
      "step 399993.0 - 0.000185 sec\n",
      "step 399994.0 - 0.000108 sec\n",
      "step 399995.0 - 0.000099 sec\n",
      "step 399996.0 - 0.000220 sec\n",
      "step 399997.0 - 0.000120 sec\n",
      "step 399998.0 - 0.000107 sec\n",
      "Total Elapsed Time - 28.856 sec\n"
     ]
    }
   ],
   "source": [
    "// Complex Mass-Spring System simulation\n",
    "\n",
    "fun simulation1() {\n",
    "\n",
    "    val time = 100.0f\n",
    "    val jit = false\n",
    "    \n",
    "    val system = SystemBuild.fourMassThreeSpring()\n",
    "                           \n",
    "    val solver = ForwardEulerSolver()\n",
    "    \n",
    "    val elapsed = kotlin.system.measureTimeMillis { \n",
    "        val observations = solver.integrate(system, time, jit)\n",
    "    }\n",
    "    \n",
    "    println(\"Total Elapsed Time - ${elapsed / 1000.0} sec\")\n",
    " \n",
    "}\n",
    "\n",
    "simulation1()"
   ]
  },
  {
   "cell_type": "markdown",
   "metadata": {},
   "source": [
    "### Jitted Simulation\n",
    "\n",
    "Note, jit is set to true.\n",
    "\n",
    "This simulation is faster than the non-jitted simulation."
   ]
  },
  {
   "cell_type": "code",
   "execution_count": 15,
   "metadata": {},
   "outputs": [
    {
     "name": "stdout",
     "output_type": "stream",
     "text": [
      "step 0.0 - 0.287756 sec\n",
      "step 1.0 - 0.002216 sec\n",
      "step 2.0 - 0.000245 sec\n",
      "step 3.0 - 0.000268 sec\n",
      "step 4.0 - 0.000172 sec\n",
      "step 5.0 - 0.000222 sec\n",
      "step 6.0 - 0.000182 sec\n",
      "step 7.0 - 0.000209 sec\n",
      "step 8.0 - 0.000214 sec\n",
      "step 9.0 - 0.000244 sec\n",
      "step 10.0 - 0.000194 sec\n",
      "step 11.0 - 0.000185 sec\n",
      "step 12.0 - 0.000305 sec\n",
      "step 13.0 - 0.000231 sec\n",
      "step 14.0 - 0.000189 sec\n",
      "step 15.0 - 0.000165 sec\n",
      "step 16.0 - 0.000334 sec\n",
      "step 17.0 - 0.000323 sec\n",
      "step 18.0 - 0.000281 sec\n",
      "step 19.0 - 0.000277 sec\n",
      "step 20.0 - 0.000370 sec\n",
      "step 399980.0 - 0.000081 sec\n",
      "step 399981.0 - 0.000155 sec\n",
      "step 399982.0 - 0.000130 sec\n",
      "step 399983.0 - 0.000116 sec\n",
      "step 399984.0 - 0.000087 sec\n",
      "step 399985.0 - 0.000063 sec\n",
      "step 399986.0 - 0.000060 sec\n",
      "step 399987.0 - 0.000091 sec\n",
      "step 399988.0 - 0.000115 sec\n",
      "step 399989.0 - 0.000103 sec\n",
      "step 399990.0 - 0.000167 sec\n",
      "step 399991.0 - 0.000119 sec\n",
      "step 399992.0 - 0.000107 sec\n",
      "step 399993.0 - 0.000138 sec\n",
      "step 399994.0 - 0.000114 sec\n",
      "step 399995.0 - 0.000096 sec\n",
      "step 399996.0 - 0.000155 sec\n",
      "step 399997.0 - 0.000128 sec\n",
      "step 399998.0 - 0.000093 sec\n",
      "Total Elaspsed Time - 22.467 sec\n"
     ]
    }
   ],
   "source": [
    "// Complex Mass-Spring System simulation\n",
    "\n",
    "fun simulation2() {\n",
    "\n",
    "    val time = 100.0f\n",
    "    val jit = true\n",
    "    \n",
    "    val system = SystemBuild.fourMassThreeSpring()\n",
    "                           \n",
    "    val solver = ForwardEulerSolver()\n",
    "    \n",
    "    val elapsed = kotlin.system.measureTimeMillis { \n",
    "        val observations = solver.integrate(system, time, jit)\n",
    "    }\n",
    "    \n",
    "    println(\"Total Elaspsed Time - ${elapsed / 1000.0} sec\")\n",
    " \n",
    "}\n",
    "\n",
    "simulation2()"
   ]
  },
  {
   "cell_type": "markdown",
   "metadata": {
    "pycharm": {
     "name": "#%%\n"
    }
   },
   "source": [
    "## Discussion\n",
    "\n",
    "The results show that the simulation using the jitted function was faster than the simulation using the non-jitted function.\n",
    "\n",
    "The purpose of this notebook was to show how the use the jit API. The jit API is easy to use but there are a number of tips to use it sucessfully: 1) the hashCode() and equals() need to be able to uniquely identify the object, 2) Wrap all the variable in an object that inherits from `Differentiable` for the fastest jit code, 3) Make sure the function that is jitted, and all the code it calls, are pure functions with no side effects, 4) and that the jitted functions only have vals and not vars for variable declarations.\n",
    "\n"
   ]
  },
  {
   "cell_type": "markdown",
   "metadata": {},
   "source": [
    "## The End"
   ]
  }
 ],
 "metadata": {
  "kernelspec": {
   "display_name": "Kotlin",
   "language": "kotlin",
   "name": "kotlin"
  },
  "language_info": {
   "codemirror_mode": "text/x-kotlin",
   "file_extension": ".kt",
   "mimetype": "text/x-kotlin",
   "name": "kotlin",
   "nbconvert_exporter": "",
   "pygments_lexer": "kotlin",
   "version": "1.7.0-dev-3303"
  }
 },
 "nbformat": 4,
 "nbformat_minor": 1
}
