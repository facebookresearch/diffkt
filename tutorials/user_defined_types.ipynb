{
 "cells": [
  {
   "cell_type": "markdown",
   "metadata": {},
   "source": [
    "# Differentiable Programming with User Defined Types\n"
   ]
  },
  {
   "cell_type": "markdown",
   "metadata": {},
   "source": [
    "**Copyright (c) Meta Platforms, Inc. and affiliates.**\n",
    " \n",
    "This source code is licensed under the MIT license found in the\n",
    "LICENSE file in the root directory of this source tree."
   ]
  },
  {
   "cell_type": "markdown",
   "metadata": {
    "pycharm": {
     "name": "#%% md\n"
    }
   },
   "source": [
    "## Introduction\n",
    "\n",
    "This notebook will discuss more advance features of the **DiffKt** api. For an introduction to **DiffKt**, review the notebook \"Introduction To Basic API Operations for DiffKt\".\n",
    "\n",
    "The focus of this notebook will be on user defined data types and the use of the functions __[primalAndForwardDerivative](http://www.diffkt.org/api/api/org.diffkt/primal-and-forward-derivative.html)__ and __[primalAndReverseDerivative](http://www.diffkt.org/api/api/org.diffkt/primal-and-reverse-derivative.html)__, which can preform automatic differentiation over functions of user defined types or complex data structures.\n",
    "\n"
   ]
  },
  {
   "cell_type": "markdown",
   "metadata": {
    "pycharm": {
     "name": "#%% md\n"
    }
   },
   "source": [
    "## Housekeeping\n",
    "\n",
    "This notebook uses `api.jar` from the **DiffKt** project.<br>\n",
    "`@file:DependsOn(\"...\")` tells the Kotlin Jupyter notebook the path to a jar that it needs."
   ]
  },
  {
   "cell_type": "code",
   "execution_count": 1,
   "metadata": {
    "pycharm": {
     "name": "#%%\n"
    }
   },
   "outputs": [],
   "source": [
    "@file:DependsOn(\"../kotlin/api/build/libs/api.jar\")"
   ]
  },
  {
   "cell_type": "markdown",
   "metadata": {
    "pycharm": {
     "name": "#%% md\n"
    }
   },
   "source": [
    "## Imports"
   ]
  },
  {
   "cell_type": "code",
   "execution_count": 2,
   "metadata": {
    "pycharm": {
     "name": "#%%\n"
    }
   },
   "outputs": [],
   "source": [
    "import org.diffkt.*"
   ]
  },
  {
   "cell_type": "markdown",
   "metadata": {
    "pycharm": {
     "name": "#%% md\n"
    }
   },
   "source": [
    "## Example Problem\n",
    "\n",
    "We will use the example from the \"Introduction To Basic API Operations for DiffKt\" that was used the show the difference in the transpose of the Jacobian between forward and reverse derivatives.\n",
    "\n",
    "For a vector valued function where you have N inputs and M outputs, the Jacobian that is returned by the __[forwardDerivative](http://www.diffkt.org/api/api/org.diffkt/forward-derivative.html)__ and __[primalAndForwardDerivative](http://www.diffkt.org/api/api/org.diffkt/primal-and-forward-derivative.html)__ is an M x N matrix. For the reverse derivative algorithms, __[reverseDerivative](http://www.diffkt.org/api/api/org.diffkt/reverse-derivative.html)__ and __[primalAndReverseDerivative](http://www.diffkt.org/api/api/org.diffkt/primal-and-reverse-derivative.html)__, the transpose of the Jacobian is returned, which is a N x M Matrix.\n",
    "\n",
    "For this example there are 3 inputs and 2 outputs.\n",
    "\n",
    "Let $\\mathbf x $ be a 1D tensor of inputs with three elements, $x_0, x_1,$ and $x_2$.\n",
    "\n",
    "Let $\\mathbf y $ be a 1D tensor of function outputs with two functions, $y_0(\\mathbf x)$ and $y_1(\\mathbf x)$.\n",
    "\n",
    "Let $y_0(\\mathbf x) = 2 x_0 + 2 x_1^2 + 3 x_1 x_2^3$\n",
    "\n",
    "Let $y_1(\\mathbf x) = 3 x_0^3 x_1 + 2 x_1^2 + 3 x_2^3$\n",
    "\n",
    "Then $\\mathbf f(\\mathbf x) = (y_0(\\mathbf x), y_1(\\mathbf x)) = 2 x_0 + 2 x_1^2 + 3 x_1 x_2^3, 3 x_0^3 x_1 + 2 x_1^2 + 3 x_2^3$\n",
    "\n",
    "The derivative is $ \\mathbf \\nabla \\mathbf f(\\mathbf x) = \\left [ \\begin {array} {*{2}{c@{{},{},{}}c}} 2 & 4 x_1 + 3x_2^3 & 9x_1x_2^2 \\\\ 9x_0^2x_1 & 3x_0^3 + 4x_1 & 9x_2^2 \\end {array} \\right ] $\n",
    "\n",
    "The transpose of the derivative is $ \\mathbf \\nabla \\mathbf f(\\mathbf x)^T = \\left [ \\begin {array} {*{3}{c@{{},{}}c}} 2 & 9x_0^2x_1 \\\\ 4 x_1 + 3x_2^3 & 3x_0^3 + 4x_1 \\\\ 9x_1x_2^2  & 9x_2^2 \\end {array} \\right ] $\n",
    "\n",
    "if $\\mathbf x = \\left [ 1, 2, 3 \\right ]$,\n",
    "\n",
    "then $\\mathbf f(\\mathbf x) = \\left [ 172, 95 \\right ]$\n",
    "\n",
    "and\n",
    "\n",
    "$\\mathbf \\nabla \\mathbf f(\\mathbf x) = \\left [ \\begin {array} {*{2}{c@{{},{},{}}c}} 2 & 89 & 162 \\\\ 18 & 11 & 81 \\end {array} \\right ]$\n",
    "\n",
    "$\\mathbf \\nabla \\mathbf f(\\mathbf x)^T = \\left [ \\begin {array} {*{3}{c@{{},{}}c}} 2 &  18 \\\\ 89 & 11 \\\\ 162 & 81 \\end {array} \\right ]$"
   ]
  },
  {
   "cell_type": "code",
   "execution_count": 3,
   "metadata": {
    "pycharm": {
     "name": "#%%\n"
    }
   },
   "outputs": [
    {
     "name": "stdout",
     "output_type": "stream",
     "text": [
      "x = [1.0, 2.0, 3.0]\n",
      "\n",
      "forward f(x) = [172.0, 95.0]\n",
      "forward Jacobian(f(x)) = [[2.0, 89.0, 162.0], [18.0, 11.0, 81.0]]\n",
      "\n",
      "reverse f(x) = [172.0, 95.0]\n",
      "reverse Jacobian(f(x)) = [[2.0, 18.0], [89.0, 11.0], [162.0, 81.0]]\n"
     ]
    }
   ],
   "source": [
    "// example problem\n",
    "\n",
    "fun f(x: DTensor) : DTensor {\n",
    "    \n",
    "    val y0  = 2f * x[0] + 2f * x[1].pow(2f) + 3f * x[1] * x[2].pow(3f) \n",
    "    val y1  = 3f * x[0].pow(3f) * x[1] + 2f * x[1].pow(2f) + 3f * x[2].pow(3f)\n",
    "  \n",
    "    return tensorOf(y0 as DScalar, y1 as DScalar) \n",
    "}\n",
    "\n",
    "val x = tensorOf(1f, 2f, 3f)\n",
    "\n",
    "// calculate the Jacobian by the forward derivative algorithm\n",
    "val (forwardFx, forwardJacobian) = primalAndForwardDerivative(x, ::f)\n",
    "\n",
    "// calculate the Jacobian by the reverse derivative algorithm\n",
    "val (reverseFx, reverseJacobian) = primalAndReverseDerivative(x, ::f)\n",
    "\n",
    "println(\"x = ${x}\")\n",
    "println(\"\")\n",
    "println(\"forward f(x) = ${forwardFx}\")\n",
    "println(\"forward Jacobian(f(x)) = ${forwardJacobian}\")\n",
    "println(\"\")\n",
    "println(\"reverse f(x) = ${reverseFx}\")\n",
    "println(\"reverse Jacobian(f(x)) = ${reverseJacobian}\")"
   ]
  },
  {
   "cell_type": "markdown",
   "metadata": {
    "pycharm": {
     "name": "#%% md\n"
    }
   },
   "source": [
    "Both the forward derivative algorithm and reverse derivative algorithm calculate the same value for `f(x)`.\n",
    "The reverse derivative algorithm calculates the transpose of the Jacobian."
   ]
  },
  {
   "cell_type": "markdown",
   "metadata": {
    "pycharm": {
     "name": "#%% md\n"
    }
   },
   "source": [
    "## User Define Types\n",
    "\n",
    "When you create a __[DTensor](http://www.diffkt.org/api/api/org.diffkt/-d-tensor/index.html)__ or __[DScalar](http://www.diffkt.org/api/api/org.diffkt/-d-scalar/index.html)__ variable, internally it has an implementation of a function call `wrap()`, which is invoked during differentiation operations. The internal representation is used for both the calculation of the user defined function and the calculation of its derivative. Alternatively, one can create their own user defined type. A user defined type could be a class with __[DTensor](http://www.diffkt.org/api/api/org.diffkt/-d-tensor/index.html)__ or __[DScalar](http://www.diffkt.org/api/api/org.diffkt/-d-scalar/index.html)__ variables, or a list of __[DTensor](http://www.diffkt.org/api/api/org.diffkt/-d-tensor/index.html)__ or __[DScalar](http://www.diffkt.org/api/api/org.diffkt/-d-scalar/index.html)__ variables, or even more complex types. When defining a user created type, one has to implement the `wrap()` function as part of the type. There are a couple ways to implement the `wrap()` function and have it called, which are discussed below.\n",
    "\n",
    "The advantage of the user defined type is that one has named-member access of a class instead of placing all the variables in an array or tensor and having to use indexing to access the variables.\n",
    "\n",
    "The purpose of __[primalAndForwardDerivative()](http://www.diffkt.org/api/api/org.diffkt/primal-and-forward-derivative.html)__ and __[primalAndReverseDerivative()](http://www.diffkt.org/api/api/org.diffkt/primal-and-reverse-derivative.html)__ is to calculate the derivatives of user defined types. The functions take a user defined input type, a user defined output type, and a user defined derivative type. In addition, the user defines a function for the calculations, and possibly a function to extract the derivatives from the calculations and place the results into the user defined derivative type. Also, the lambdas `wrapInput` and `wrapOutput` might need to be defined to get the `wrap()` function called internally in the code. Notice the similarity in names to __[primalAndForwardDerivative()](http://www.diffkt.org/api/api/org.diffkt/primal-and-forward-derivative.html)__ and __[primalAndReverseDerivative()](http://www.diffkt.org/api/api/org.diffkt/primal-and-reverse-derivative.html)__, as an \"s\" has been added to the end of the function names __[primalAndForwardDerivative()](http://www.diffkt.org/api/api/org.diffkt/primal-and-forward-derivatives.html)__ and __[primalAndReverseDerivative()](http://www.diffkt.org/api/api/org.diffkt/primal-and-reverse-derivative.html)__ .\n",
    "\n",
    "__[primalAndForwardDerivative()](http://www.diffkt.org/api/api/org.diffkt/primal-and-forward-derivative.html)__ and __[primalAndReverseDerivative()](http://www.diffkt.org/api/api/org.diffkt/primal-and-reverse-derivative.html)__ have essentially the same function signature . The function signatures are:\n",
    "\n",
    "`fun <Input : Any, Output : Any, Derivative : Any>`__[primalAndForwardDerivative](http://www.diffkt.org/api/api/org.diffkt/primal-and-forward-derivative.html)__`(\n",
    "    x: Input,\n",
    "    f: (Input) -> Output,\n",
    "    wrapInput: ((Input, Wrapper) -> Input)? = null,\n",
    "    wrapOutput: ((Output, Wrapper) -> Output)? = null,\n",
    "    extractDerivative: (Input, Output, (input: DTensor, output: DTensor) -> DTensor) -> Derivative,\n",
    "): Pair<Output, Derivative>`\n",
    "\n",
    "and\n",
    "\n",
    "`fun <Input : Any, Output : Any, Derivative : Any>`__[primalAndReverseDerivative](http://www.diffkt.org/api/api/org.diffkt/primal-and-reverse-derivative.html)__`(\n",
    "    x: Input,\n",
    "    f: (Input) -> Output,\n",
    "    wrapInput: ((Input, Wrapper) -> Input)? = null,\n",
    "    wrapOutput: ((Output, Wrapper) -> Output)? = null,\n",
    "    extractDerivative: (Input, Output, (input: DTensor, output: DTensor) -> DTensor) -> Derivative,\n",
    "): Pair<Output, Derivative>`\n",
    "\n",
    "The type for `Input`, `Output`, and `Derivative` are user defined. The user defined types could be a class with __[DScalar](http://www.diffkt.org/api/api/org.diffkt/-d-scalar/index.html)__ or __[DTensor](http://www.diffkt.org/api/api/org.diffkt/-d-tensor/index.html)__ variables, a list with __[DScalar](http://www.diffkt.org/api/api/org.diffkt/-d-scalar/index.html)__ or __[DTensor](http://www.diffkt.org/api/api/org.diffkt/-d-tensor/index.html)__ elements, or something more complex. \n",
    "\n",
    "The function `f: (Input) -> Output` has to know how to access the variables in the `Input` type and produce a return of `Output` type.\n",
    "\n",
    "The `Derivative` type has to define all the possible derivates that can be produced from taking the derivative of `f()` with respect to the `Input` type.\n",
    "\n",
    "The `Input` or `Output` types can inherit the `Differentiable<T>` interface, which knows how to call the `wrap()` function.. If the `Input` and `Output` types do not inherit from the `Differentiable<T>` interface, then a lambda expression needs to written for the `wrapInput` and/or the `wrapOutput` functions to call `wrap()` for the `Input` or `Output` type."
   ]
  },
  {
   "cell_type": "markdown",
   "metadata": {
    "pycharm": {
     "name": "#%% md\n"
    }
   },
   "source": [
    "## Defining a Class as a User Defined Types\n",
    "\n",
    "The example problem was represented with the input being a 1D vector with three variables and the output being a 1D vector with two variables. In this example we will define three user defined classes for `Input`, `Output`, and `Derivative`."
   ]
  },
  {
   "cell_type": "markdown",
   "metadata": {
    "pycharm": {
     "name": "#%% md\n"
    }
   },
   "source": [
    "### Input Class\n",
    "\n",
    "We will define an `Input` class that is constructed with three __[DScalar](http://www.diffkt.org/api/api/org.diffkt/-d-scalar/index.html)__ variables: `x0`, `x1`, and `x2`. Now each variable is a named member of the class and does not have to be accessed by indexing an array. The class `Input` inherits from the `Differentiable<T>` interface. Since the class inherits from the `Differentiable<T>` interface it will override the function `wrap()`, which is defined in the `Differentiable<T>` interface. When `wrap()` is called, a new `Input` instance is created with `x0`, `x1`, and `x2` wrapped."
   ]
  },
  {
   "cell_type": "code",
   "execution_count": 4,
   "metadata": {
    "pycharm": {
     "name": "#%%\n"
    }
   },
   "outputs": [],
   "source": [
    "// Input class\n",
    "\n",
    "class Input(val x0: DScalar, val x1: DScalar, val x2: DScalar) : Differentiable<Input> {\n",
    "            override fun wrap(wrapper: Wrapper): Input {\n",
    "                return Input(wrapper.wrap(x0), wrapper.wrap(x1), wrapper.wrap(x2))\n",
    "            }\n",
    "}"
   ]
  },
  {
   "cell_type": "markdown",
   "metadata": {
    "pycharm": {
     "name": "#%% md\n"
    }
   },
   "source": [
    "### Output Class\n",
    "\n",
    "We will define an `Output` class that is constructed with two __[DScalar](http://www.diffkt.org/api/api/org.diffkt/-d-scalar/index.html)__ variables: `y0` and `y1`. Now each variable is a named member of the class and does not have to be accessed by indexing an array. The class `Output` inherits from the `Differentiable<T>`interface. Since the class inherits from the `Differentiable<T>` interface it will override the function `wrap()`, which is defined in the `Differentiable<T>` interface. Each variable in the class is wrapped by calling `wrapper.wrap()` as it is passed to a constructor of the `Output` class."
   ]
  },
  {
   "cell_type": "code",
   "execution_count": 5,
   "metadata": {
    "pycharm": {
     "name": "#%%\n"
    }
   },
   "outputs": [],
   "source": [
    "// Output class\n",
    "\n",
    "class Output(val y0: DScalar, val y1: DScalar) : Differentiable<Output> {\n",
    "            override fun wrap(wrapper: Wrapper): Output {\n",
    "                return Output(wrapper.wrap(y0), wrapper.wrap(y1))\n",
    "            }\n",
    "} "
   ]
  },
  {
   "cell_type": "markdown",
   "metadata": {
    "pycharm": {
     "name": "#%% md\n"
    }
   },
   "source": [
    "### Derivative Class\n",
    "\n",
    "A user defined class is specified to hold the derivatives. Since we have 2 output functions and 3 variables, there are 6 derivatives. \n",
    "\n",
    "`dy0Dx0` = $ \\frac{dy0(x0, x1, x2)}{dx0} $\n",
    "\n",
    "`dy0Dx1` = $ \\frac{dy0(x0, x1, x2)}{dx1} $\n",
    "\n",
    "`dy0Dx2` = $ \\frac{dy0(x0, x1, x2)}{dx2} $\n",
    "\n",
    "`dy1Dx0` = $ \\frac{dy1(x0, x1, x2)}{dx0} $\n",
    "\n",
    "`dy1Dx1` = $ \\frac{dy1(x0, x1, x2)}{dx1} $\n",
    "\n",
    "`dy1Dx2` = $ \\frac{dy1(x0, x1, x2)}{dx2} $"
   ]
  },
  {
   "cell_type": "code",
   "execution_count": 6,
   "metadata": {
    "pycharm": {
     "name": "#%%\n"
    }
   },
   "outputs": [],
   "source": [
    "// Derivative class\n",
    "\n",
    "class Derivative(val dy0Dx0: DScalar, val dy0Dx1: DScalar, val dy0Dx2: DScalar, \n",
    "                 val dy1Dx0: DScalar, val dy1Dx1: DScalar, val dy1Dx2: DScalar) \n",
    " \n"
   ]
  },
  {
   "cell_type": "markdown",
   "metadata": {
    "pycharm": {
     "name": "#%% md\n"
    }
   },
   "source": [
    "### Extracting the Derivatives\n",
    "\n",
    "We use the function `makeDerivative()` to extract the derivatives from the calculations. The function `extractDerivative()` is implemented in the code and knows how to extract a derivative from the calculations. We pass `extractDerivative()` an individual input variable and an individual output variable."
   ]
  },
  {
   "cell_type": "code",
   "execution_count": 7,
   "metadata": {
    "pycharm": {
     "name": "#%%\n"
    }
   },
   "outputs": [],
   "source": [
    "// extracting the derivatives\n",
    "\n",
    "fun makeDerivative(input: Input, output: Output, extractDerivative: (DTensor, DTensor) -> DTensor): Derivative {\n",
    "          \n",
    "    val x0 = input.x0\n",
    "    val x1 = input.x1\n",
    "    val x2 = input.x2\n",
    "    val y0 = output.y0\n",
    "    val y1 = output.y1\n",
    "            \n",
    "    val dy0Dx0 = extractDerivative(x0, y0) as DScalar\n",
    "    val dy0Dx1 = extractDerivative(x1, y0) as DScalar\n",
    "    val dy0Dx2 = extractDerivative(x2, y0) as DScalar\n",
    "    val dy1Dx0 = extractDerivative(x0, y1) as DScalar\n",
    "    val dy1Dx1 = extractDerivative(x1, y1) as DScalar\n",
    "    val dy1Dx2 = extractDerivative(x2, y1) as DScalar\n",
    "             \n",
    "    return Derivative(dy0Dx0, dy0Dx1, dy0Dx2, dy1Dx0, dy1Dx1, dy1Dx2)\n",
    "}"
   ]
  },
  {
   "cell_type": "markdown",
   "metadata": {
    "pycharm": {
     "name": "#%% md\n"
    }
   },
   "source": [
    "### User Defined Function\n",
    "\n",
    "The function `f()` is the user defined function for the calculation presented in the example. The input and output tensors have been replace by the `Input` and `Output` class."
   ]
  },
  {
   "cell_type": "code",
   "execution_count": 8,
   "metadata": {
    "pycharm": {
     "name": "#%%\n"
    }
   },
   "outputs": [],
   "source": [
    "// user defined function\n",
    "\n",
    "fun f(input: Input): Output {\n",
    "        \n",
    "    val x0 = input.x0\n",
    "    val x1 = input.x1\n",
    "    val x2 = input.x2\n",
    "        \n",
    "    val y0  = 2f * x0 + 2f * x1.pow(2f) + 3f * x1 * x2.pow(3f) \n",
    "    val y1  = 3f * x0.pow(3f) * x1 + 2f * x1.pow(2f) + 3f * x2.pow(3f)\n",
    "        \n",
    "    return Output(y0,y1)\n",
    "}\n"
   ]
  },
  {
   "cell_type": "markdown",
   "metadata": {
    "pycharm": {
     "name": "#%% md\n"
    }
   },
   "source": [
    "### Initialization of Input"
   ]
  },
  {
   "cell_type": "code",
   "execution_count": 9,
   "metadata": {
    "pycharm": {
     "name": "#%%\n"
    }
   },
   "outputs": [],
   "source": [
    "// Initialization of x\n",
    "\n",
    "val x = Input(FloatScalar(1f), FloatScalar(2f), FloatScalar(3f))"
   ]
  },
  {
   "cell_type": "markdown",
   "metadata": {
    "pycharm": {
     "name": "#%% md\n"
    }
   },
   "source": [
    "### Calling `primalAndForwardDerivative()`"
   ]
  },
  {
   "cell_type": "code",
   "execution_count": 10,
   "metadata": {
    "pycharm": {
     "name": "#%%\n"
    }
   },
   "outputs": [],
   "source": [
    "// calculate derivatives with the forward algorithm\n",
    "\n",
    "val (p,d) = primalAndForwardDerivative(\n",
    "    x = x,\n",
    "    f = ::f,\n",
    "    extractDerivative = ::makeDerivative)"
   ]
  },
  {
   "cell_type": "markdown",
   "metadata": {
    "pycharm": {
     "name": "#%% md\n"
    }
   },
   "source": [
    "### Output\n",
    "\n",
    "Compare the output of __[primalAndForwardDerivative()](http://www.diffkt.org/api/api/org.diffkt/primal-and-forward-derivatives.html)__ with the example output. It is exactly the same but used user defined types instead of tensors."
   ]
  },
  {
   "cell_type": "code",
   "execution_count": 11,
   "metadata": {
    "pycharm": {
     "name": "#%%\n"
    }
   },
   "outputs": [
    {
     "name": "stdout",
     "output_type": "stream",
     "text": [
      "y0 = 172.0\n",
      "y1 = 95.0\n",
      "dy0Dx0 = 2.0\n",
      "dy0Dx1 = 89.0\n",
      "dy0Dx2 = 162.0\n",
      "dy1Dx0 = 18.0\n",
      "dy1Dx1 = 11.0\n",
      "dy1Dx2 = 81.0\n"
     ]
    }
   ],
   "source": [
    "// print the output\n",
    "\n",
    "println(\"y0 = ${p.y0}\")\n",
    "println(\"y1 = ${p.y1}\")\n",
    "println(\"dy0Dx0 = ${d.dy0Dx0}\")\n",
    "println(\"dy0Dx1 = ${d.dy0Dx1}\")\n",
    "println(\"dy0Dx2 = ${d.dy0Dx2}\")\n",
    "println(\"dy1Dx0 = ${d.dy1Dx0}\")\n",
    "println(\"dy1Dx1 = ${d.dy1Dx1}\")\n",
    "println(\"dy1Dx2 = ${d.dy1Dx2}\")\n"
   ]
  },
  {
   "cell_type": "markdown",
   "metadata": {
    "pycharm": {
     "name": "#%% md\n"
    }
   },
   "source": [
    "### Calling `primalAndReverseDerivative()`"
   ]
  },
  {
   "cell_type": "code",
   "execution_count": 12,
   "metadata": {
    "pycharm": {
     "name": "#%%\n"
    }
   },
   "outputs": [],
   "source": [
    "// calculate the derivatives with the reverse algorithm\n",
    "\n",
    "val (pr,dr) = primalAndReverseDerivative(\n",
    "    x = x,\n",
    "    f = ::f,\n",
    "    extractDerivative = ::makeDerivative)"
   ]
  },
  {
   "cell_type": "markdown",
   "metadata": {
    "pycharm": {
     "name": "#%% md\n"
    }
   },
   "source": [
    "### Output\n",
    "\n",
    "The output of __[primalAndReverseDerivative()](http://www.diffkt.org/api/api/org.diffkt/primal-and-reverse-derivative.html)__ is the same as the output of __[primalAndForwardDerivative()](http://www.diffkt.org/api/api/org.diffkt/primal-and-forward-derivative.html)__. "
   ]
  },
  {
   "cell_type": "code",
   "execution_count": 13,
   "metadata": {
    "pycharm": {
     "name": "#%%\n"
    }
   },
   "outputs": [
    {
     "name": "stdout",
     "output_type": "stream",
     "text": [
      "y0 = 172.0\n",
      "y1 = 95.0\n",
      "dy0Dx0 = 2.0\n",
      "dy0Dx1 = 89.0\n",
      "dy0Dx2 = 162.0\n",
      "dy1Dx0 = 18.0\n",
      "dy1Dx1 = 11.0\n",
      "dy1Dx2 = 81.0\n"
     ]
    }
   ],
   "source": [
    "// print the output\n",
    "\n",
    "println(\"y0 = ${pr.y0}\")\n",
    "println(\"y1 = ${pr.y1}\")\n",
    "println(\"dy0Dx0 = ${dr.dy0Dx0}\")\n",
    "println(\"dy0Dx1 = ${dr.dy0Dx1}\")\n",
    "println(\"dy0Dx2 = ${dr.dy0Dx2}\")\n",
    "println(\"dy1Dx0 = ${dr.dy1Dx0}\")\n",
    "println(\"dy1Dx1 = ${dr.dy1Dx1}\")\n",
    "println(\"dy1Dx2 = ${dr.dy1Dx2}\")\n"
   ]
  },
  {
   "cell_type": "markdown",
   "metadata": {
    "pycharm": {
     "name": "#%% md\n"
    }
   },
   "source": [
    "## User Defined Types That Don't Inherit From `Differentiable<T>`\n",
    "\n",
    "In this section we will look at the same example but the user defined types will not inherit from the`Differentiable<T>` interface. In this case, we have to pass two additional paramaters, `wrapInput` and `wrapOutput`, to __[primalAndForwardDerivative()](http://www.diffkt.org/api/api/org.diffkt/primal-and-forward-derivative.html)__ and __[primalAndReverseDerivative()](http://www.diffkt.org/api/api/org.diffkt/primal-and-reverse-derivative.html)__ that will be as lambdas that call the `wrap()` functions on the objects."
   ]
  },
  {
   "cell_type": "markdown",
   "metadata": {
    "pycharm": {
     "name": "#%% md\n"
    }
   },
   "source": [
    "### Input Class\n",
    "\n",
    "The `Input` class does not inherit from the `Differentiable<T>` interface, so `wrap()` is defined as a function of the class and is not overriding a function in the `Differentiable<T>` interface."
   ]
  },
  {
   "cell_type": "code",
   "execution_count": 14,
   "metadata": {
    "pycharm": {
     "name": "#%%\n"
    }
   },
   "outputs": [],
   "source": [
    "// Input class\n",
    "\n",
    "class Input(val x0: DScalar, val x1: DScalar, val x2: DScalar) {\n",
    "            fun wrap(wrapper: Wrapper): Input {\n",
    "                return Input(wrapper.wrap(x0), wrapper.wrap(x1), wrapper.wrap(x2))\n",
    "            }\n",
    "}"
   ]
  },
  {
   "cell_type": "markdown",
   "metadata": {
    "pycharm": {
     "name": "#%% md\n"
    }
   },
   "source": [
    "### Output Class\n",
    "\n",
    "The same with the `Output` class."
   ]
  },
  {
   "cell_type": "code",
   "execution_count": 15,
   "metadata": {
    "pycharm": {
     "name": "#%%\n"
    }
   },
   "outputs": [],
   "source": [
    "// Output Class\n",
    "\n",
    "class Output(val y0: DScalar, val y1: DScalar) {\n",
    "            fun wrap(wrapper: Wrapper): Output {\n",
    "                return Output(wrapper.wrap(y0), wrapper.wrap(y1))\n",
    "            }\n",
    "} "
   ]
  },
  {
   "cell_type": "markdown",
   "metadata": {
    "pycharm": {
     "name": "#%% md\n"
    }
   },
   "source": [
    "### Derivative Class\n",
    "\n",
    "No changes for the `Derivative` class."
   ]
  },
  {
   "cell_type": "code",
   "execution_count": 16,
   "metadata": {
    "pycharm": {
     "name": "#%%\n"
    }
   },
   "outputs": [],
   "source": [
    "// Derivative class\n",
    "\n",
    "class Derivative(val dy0Dx0: DScalar, val dy0Dx1: DScalar, val dy0Dx2: DScalar, \n",
    "                 val dy1Dx0: DScalar, val dy1Dx1: DScalar, val dy1Dx2: DScalar) \n",
    " "
   ]
  },
  {
   "cell_type": "markdown",
   "metadata": {
    "pycharm": {
     "name": "#%% md\n"
    }
   },
   "source": [
    "### Extracting the Derivatives\n",
    "\n",
    "The `makeDerivative()` function is the same."
   ]
  },
  {
   "cell_type": "code",
   "execution_count": 17,
   "metadata": {
    "pycharm": {
     "name": "#%%\n"
    }
   },
   "outputs": [],
   "source": [
    "// extracting the derivatives\n",
    "\n",
    "fun makeDerivative(input: Input, output: Output, extractDerivative: (DTensor, DTensor) -> DTensor): Derivative {\n",
    "          \n",
    "    val x0 = input.x0\n",
    "    val x1 = input.x1\n",
    "    val x2 = input.x2\n",
    "    val y0 = output.y0\n",
    "    val y1 = output.y1\n",
    "            \n",
    "    val dy0Dx0 = extractDerivative(x0, y0) as DScalar\n",
    "    val dy0Dx1 = extractDerivative(x1, y0) as DScalar\n",
    "    val dy0Dx2 = extractDerivative(x2, y0) as DScalar\n",
    "    val dy1Dx0 = extractDerivative(x0, y1) as DScalar\n",
    "    val dy1Dx1 = extractDerivative(x1, y1) as DScalar\n",
    "    val dy1Dx2 = extractDerivative(x2, y1) as DScalar\n",
    "       \n",
    "    return Derivative(dy0Dx0, dy0Dx1, dy0Dx2, dy1Dx0, dy1Dx1, dy1Dx2)\n",
    "}"
   ]
  },
  {
   "cell_type": "markdown",
   "metadata": {
    "pycharm": {
     "name": "#%% md\n"
    }
   },
   "source": [
    "### User Defined Function\n",
    "\n",
    "The function `f()` for the calculation is the same."
   ]
  },
  {
   "cell_type": "code",
   "execution_count": 18,
   "metadata": {
    "pycharm": {
     "name": "#%%\n"
    }
   },
   "outputs": [],
   "source": [
    "// user defined function\n",
    "\n",
    "fun f(input: Input): Output {\n",
    "        \n",
    "    val x0 = input.x0\n",
    "    val x1 = input.x1\n",
    "    val x2 = input.x2\n",
    "        \n",
    "    val y0  = 2f * x0 + 2f * x1.pow(2f) + 3f * x1 * x2.pow(3f) \n",
    "    val y1  = 3f * x0.pow(3f) * x1 + 2f * x1.pow(2f) + 3f * x2.pow(3f)\n",
    " \n",
    "    return Output(y0,y1)\n",
    "}\n"
   ]
  },
  {
   "cell_type": "markdown",
   "metadata": {
    "pycharm": {
     "name": "#%% md\n"
    }
   },
   "source": [
    "### Initialization of the Input"
   ]
  },
  {
   "cell_type": "code",
   "execution_count": 19,
   "metadata": {
    "pycharm": {
     "name": "#%%\n"
    }
   },
   "outputs": [],
   "source": [
    "// Initialization of x\n",
    "\n",
    "val x = Input(FloatScalar(1f), FloatScalar(2f), FloatScalar(3f))"
   ]
  },
  {
   "cell_type": "markdown",
   "metadata": {
    "pycharm": {
     "name": "#%% md\n"
    }
   },
   "source": [
    "### Calling `primalAndForwardDerivative()`\n",
    "\n",
    "Since the `Input` and `Output` classes do not inherit from the `Differentiable<T>` interface, we need a way for `wrap()` to be called. The parameters `wrapInput` and `wrapOutput` are assigned lambdas that call the `wrap()` function in the `Input` and `Output` classes."
   ]
  },
  {
   "cell_type": "code",
   "execution_count": 20,
   "metadata": {
    "pycharm": {
     "name": "#%%\n"
    }
   },
   "outputs": [],
   "source": [
    "// Calculate the derivatives with the forward algorithm\n",
    "\n",
    "val (p,d) = primalAndForwardDerivative(\n",
    "    x = x,\n",
    "    f = ::f,\n",
    "    wrapInput = { i, w -> i.wrap(w) },\n",
    "    wrapOutput = { o, w -> o.wrap(w) },\n",
    "    extractDerivative = ::makeDerivative)"
   ]
  },
  {
   "cell_type": "markdown",
   "metadata": {
    "pycharm": {
     "name": "#%% md\n"
    }
   },
   "source": [
    "### Output\n",
    "\n",
    "The output of __[primalAndForwardDerivative()](http://www.diffkt.org/api/api/org.diffkt/primal-and-forward-derivatives.html)__ is the same as the previous example."
   ]
  },
  {
   "cell_type": "code",
   "execution_count": 21,
   "metadata": {
    "pycharm": {
     "name": "#%%\n"
    }
   },
   "outputs": [
    {
     "name": "stdout",
     "output_type": "stream",
     "text": [
      "y0 = 172.0\n",
      "y1 = 95.0\n",
      "dy0Dx0 = 2.0\n",
      "dy0Dx1 = 89.0\n",
      "dy0Dx2 = 162.0\n",
      "dy1Dx0 = 18.0\n",
      "dy1Dx1 = 11.0\n",
      "dy1Dx2 = 81.0\n"
     ]
    }
   ],
   "source": [
    "// print the output\n",
    "\n",
    "println(\"y0 = ${p.y0}\")\n",
    "println(\"y1 = ${p.y1}\")\n",
    "println(\"dy0Dx0 = ${d.dy0Dx0}\")\n",
    "println(\"dy0Dx1 = ${d.dy0Dx1}\")\n",
    "println(\"dy0Dx2 = ${d.dy0Dx2}\")\n",
    "println(\"dy1Dx0 = ${d.dy1Dx0}\")\n",
    "println(\"dy1Dx1 = ${d.dy1Dx1}\")\n",
    "println(\"dy1Dx2 = ${d.dy1Dx2}\")"
   ]
  },
  {
   "cell_type": "markdown",
   "metadata": {
    "pycharm": {
     "name": "#%% md\n"
    }
   },
   "source": [
    "### Calling `primalAndReverseDerivative()`"
   ]
  },
  {
   "cell_type": "code",
   "execution_count": 22,
   "metadata": {
    "pycharm": {
     "name": "#%%\n"
    }
   },
   "outputs": [],
   "source": [
    "// Calculate the derivatives with the reverse algorithm\n",
    "\n",
    "val (pr,dr) = primalAndReverseDerivative(\n",
    "    x = x,\n",
    "    f = ::f,\n",
    "    wrapInput = { i, w -> i.wrap(w) },\n",
    "    wrapOutput = { o, w -> o.wrap(w) },\n",
    "    extractDerivative = ::makeDerivative)"
   ]
  },
  {
   "cell_type": "markdown",
   "metadata": {
    "pycharm": {
     "name": "#%% md\n"
    }
   },
   "source": [
    "### Output\n",
    "\n",
    "The output of __[primalAndReverseDerivative()](http://www.diffkt.org/api/api/org.diffkt/primal-and-reverse-derivative.html)__ is the same as the previous example."
   ]
  },
  {
   "cell_type": "code",
   "execution_count": 23,
   "metadata": {
    "pycharm": {
     "name": "#%%\n"
    }
   },
   "outputs": [
    {
     "name": "stdout",
     "output_type": "stream",
     "text": [
      "y0 = 172.0\n",
      "y1 = 95.0\n",
      "dy0Dx0 = 2.0\n",
      "dy0Dx1 = 89.0\n",
      "dy0Dx2 = 162.0\n",
      "dy1Dx0 = 18.0\n",
      "dy1Dx1 = 11.0\n",
      "dy1Dx2 = 81.0\n"
     ]
    }
   ],
   "source": [
    "// print the output\n",
    "\n",
    "println(\"y0 = ${pr.y0}\")\n",
    "println(\"y1 = ${pr.y1}\")\n",
    "println(\"dy0Dx0 = ${dr.dy0Dx0}\")\n",
    "println(\"dy0Dx1 = ${dr.dy0Dx1}\")\n",
    "println(\"dy0Dx2 = ${dr.dy0Dx2}\")\n",
    "println(\"dy1Dx0 = ${dr.dy1Dx0}\")\n",
    "println(\"dy1Dx1 = ${dr.dy1Dx1}\")\n",
    "println(\"dy1Dx2 = ${dr.dy1Dx2}\")"
   ]
  },
  {
   "cell_type": "markdown",
   "metadata": {
    "pycharm": {
     "name": "#%% md\n"
    }
   },
   "source": [
    "## A List of Scalars\n",
    "\n",
    "In this example a list of __[DScalar](http://www.diffkt.org/api/api/org.diffkt/-d-scalar/index.html)__ is used as the input and output. Internally, a list is already represented as a wrapped data type and has the machinery to call the `wrap()` function. In this example there are no `Input`, `Output`, or `Derivative` types. "
   ]
  },
  {
   "cell_type": "markdown",
   "metadata": {
    "pycharm": {
     "name": "#%% md\n"
    }
   },
   "source": [
    "### Extracting the Derivatives\n",
    "\n",
    "In this example the input variables are variables in a list:\n",
    "\n",
    "$x_0$ = `input[0]`\n",
    "\n",
    "$x_1$ = `input[1]`\n",
    "\n",
    "$x_2$ = `input[2]`\n",
    "\n",
    "The output variables are variables in a list:\n",
    "\n",
    "$y_0$ = `output[0]`\n",
    "\n",
    "$y_1$ = `output[1]`\n",
    "\n",
    "The extracted derivatives are variables in a list:\n",
    "\n",
    "`dy0Dx0` = `d[0]`\n",
    "\n",
    "`dy0Dx1` = `d[1]`\n",
    "\n",
    "`dy0Dx2` = `d[2]`\n",
    "\n",
    "`dy1Dx0` = `d[3]`\n",
    "\n",
    "`dy1Dx1` = `d[4]`\n",
    "\n",
    "`dy1Dx2` = `d[5]`"
   ]
  },
  {
   "cell_type": "code",
   "execution_count": 24,
   "metadata": {
    "pycharm": {
     "name": "#%%\n"
    }
   },
   "outputs": [],
   "source": [
    "// extracting the derivatives\n",
    "\n",
    "fun makeDerivative(input: List<DScalar>, output: List<DScalar>, extractDerivative: (DTensor, DTensor) -> DTensor): List<DScalar> {\n",
    "       \n",
    "    val x0 = input[0]\n",
    "    val x1 = input[1]\n",
    "    val x2 = input[2]\n",
    "    val y0 = output[0]\n",
    "    val y1 = output[1]\n",
    "        \n",
    "    val dy0Dx0 = extractDerivative(x0, y0) as DScalar\n",
    "    val dy0Dx1 = extractDerivative(x1, y0) as DScalar\n",
    "    val dy0Dx2 = extractDerivative(x2, y0) as DScalar\n",
    "    val dy1Dx0 = extractDerivative(x0, y1) as DScalar\n",
    "    val dy1Dx1 = extractDerivative(x1, y1) as DScalar\n",
    "    val dy1Dx2 = extractDerivative(x2, y1) as DScalar     \n",
    "    return listOf(dy0Dx0, dy0Dx1, dy0Dx2, dy1Dx0, dy1Dx1, dy1Dx2)\n",
    "}"
   ]
  },
  {
   "cell_type": "markdown",
   "metadata": {
    "pycharm": {
     "name": "#%% md\n"
    }
   },
   "source": [
    "### User Defined Function\n",
    "\n",
    "The user defined function `f()` is the same except the variables are now in a list."
   ]
  },
  {
   "cell_type": "code",
   "execution_count": 25,
   "metadata": {
    "pycharm": {
     "name": "#%%\n"
    }
   },
   "outputs": [],
   "source": [
    "// user defined function\n",
    "\n",
    "fun f(input: List<DScalar>): List<DScalar> {\n",
    "        \n",
    "    val x0 = input[0]\n",
    "    val x1 = input[1]\n",
    "    val x2 = input[2]\n",
    "        \n",
    "    val y0  = 2f * x0 + 2f * x1.pow(2f) + 3f * x1 * x2.pow(3f) \n",
    "    val y1  = 3f * x0.pow(3f) * x1 + 2f * x1.pow(2f) + 3f * x2.pow(3f)\n",
    "    return listOf(y0,y1)\n",
    "}\n"
   ]
  },
  {
   "cell_type": "markdown",
   "metadata": {
    "pycharm": {
     "name": "#%% md\n"
    }
   },
   "source": [
    "### Initialization of X\n",
    "\n",
    "The initial values for the input variables are placed in a list."
   ]
  },
  {
   "cell_type": "code",
   "execution_count": 26,
   "metadata": {
    "pycharm": {
     "name": "#%%\n"
    }
   },
   "outputs": [],
   "source": [
    "// initialization of x\n",
    "\n",
    "val x = listOf(FloatScalar(1f), FloatScalar(2f), FloatScalar(3f))\n"
   ]
  },
  {
   "cell_type": "markdown",
   "metadata": {
    "pycharm": {
     "name": "#%% md\n"
    }
   },
   "source": [
    "### Calling `primalAndForwardDerivative()`"
   ]
  },
  {
   "cell_type": "code",
   "execution_count": 27,
   "metadata": {
    "pycharm": {
     "name": "#%%\n"
    }
   },
   "outputs": [],
   "source": [
    "// Calculate the derivatives with the forward algorithm\n",
    "\n",
    "val (p,d) = primalAndForwardDerivative(\n",
    "    x = x,\n",
    "    f = ::f,\n",
    "    extractDerivative = ::makeDerivative)"
   ]
  },
  {
   "cell_type": "markdown",
   "metadata": {
    "pycharm": {
     "name": "#%% md\n"
    }
   },
   "source": [
    "### Output\n",
    "\n",
    "The output is the same except the primal p and derivates d are list."
   ]
  },
  {
   "cell_type": "code",
   "execution_count": 28,
   "metadata": {
    "pycharm": {
     "name": "#%%\n"
    }
   },
   "outputs": [
    {
     "name": "stdout",
     "output_type": "stream",
     "text": [
      "y0 = 172.0\n",
      "y1 = 95.0\n",
      "dgDx0 = 2.0\n",
      "dgDx1 = 89.0\n",
      "dgDx2 = 162.0\n",
      "dhDx0 = 18.0\n",
      "dhDx1 = 11.0\n",
      "dhDx2 = 81.0\n"
     ]
    }
   ],
   "source": [
    "// print the output\n",
    "\n",
    "println(\"y0 = ${p[0]}\")\n",
    "println(\"y1 = ${p[1]}\")\n",
    "println(\"dgDx0 = ${d[0]}\")\n",
    "println(\"dgDx1 = ${d[1]}\")\n",
    "println(\"dgDx2 = ${d[2]}\")\n",
    "println(\"dhDx0 = ${d[3]}\")\n",
    "println(\"dhDx1 = ${d[4]}\")\n",
    "println(\"dhDx2 = ${d[5]}\")"
   ]
  },
  {
   "cell_type": "markdown",
   "metadata": {
    "pycharm": {
     "name": "#%% md\n"
    }
   },
   "source": [
    "### Calling `primalAndReverseDerivative()`"
   ]
  },
  {
   "cell_type": "code",
   "execution_count": 29,
   "metadata": {
    "pycharm": {
     "name": "#%%\n"
    }
   },
   "outputs": [],
   "source": [
    "// Calculate the derivatives with the reverse algorithm\n",
    "\n",
    "val (pr,dr) = primalAndReverseDerivative(\n",
    "    x = x,\n",
    "    f = ::f,\n",
    "    extractDerivative = ::makeDerivative)"
   ]
  },
  {
   "cell_type": "markdown",
   "metadata": {
    "pycharm": {
     "name": "#%% md\n"
    }
   },
   "source": [
    "### Output\n",
    "\n",
    "The same output."
   ]
  },
  {
   "cell_type": "code",
   "execution_count": 30,
   "metadata": {
    "pycharm": {
     "name": "#%%\n"
    }
   },
   "outputs": [
    {
     "name": "stdout",
     "output_type": "stream",
     "text": [
      "y0 = 172.0\n",
      "y1 = 95.0\n",
      "dgDx0 = 2.0\n",
      "dgDx1 = 89.0\n",
      "dgDx2 = 162.0\n",
      "dhDx0 = 18.0\n",
      "dhDx1 = 11.0\n",
      "dhDx2 = 81.0\n"
     ]
    }
   ],
   "source": [
    "// print the output\n",
    "\n",
    "println(\"y0 = ${pr[0]}\")\n",
    "println(\"y1 = ${pr[1]}\")\n",
    "println(\"dgDx0 = ${dr[0]}\")\n",
    "println(\"dgDx1 = ${dr[1]}\")\n",
    "println(\"dgDx2 = ${dr[2]}\")\n",
    "println(\"dhDx0 = ${dr[3]}\")\n",
    "println(\"dhDx1 = ${dr[4]}\")\n",
    "println(\"dhDx2 = ${dr[5]}\")"
   ]
  },
  {
   "cell_type": "markdown",
   "metadata": {
    "pycharm": {
     "name": "#%% md\n"
    }
   },
   "source": [
    "## Complex Data Structures\n",
    "\n",
    "This example uses a variety of data structures and mixes the way the wrapper is invoked. \n",
    "1. It has a class, `MyVariable`, that holds an individual `FloatScalar` variable that inherits from the `Differentiable<T>` interface. `MyVariable` has an alternative constructor that can be initialized from a `Float` instead of a `FloatScalar`.\n",
    "2. It has a class, `Input`, that holds a `List` of `MyVariable`. The class `Input` does not inherit from `Differentiable<T>`. `List` is a registered class internally in the code and implements the `wrap()` function internally.\n",
    "3. It has a class, `Output`, that uses a `Pair` to hold the output variables $y_0$ and $y_1$. `Output` does not inherit from `Differentiable<T>`. `Pair` is a registered class internally in the code and implements the `wrap()` function internally.\n",
    "4. This example shows that you can call either  __[primalAndForwardDerivative()](http://www.diffkt.org/api/api/org.diffkt/primal-and-forward-derivative.html)__ and __[primalAndReverseDerivative()](http://www.diffkt.org/api/api/org.diffkt/primal-and-reverse-derivative.html)__ with a mixture of data types that use multiple methods for implementing the `wrap()` function."
   ]
  },
  {
   "cell_type": "markdown",
   "metadata": {
    "pycharm": {
     "name": "#%% md\n"
    }
   },
   "source": [
    "### MyVariable\n",
    "\n",
    "`MyVariable` is a class to hold an individual input variable as a __[DScalar](http://www.diffkt.org/api/api/org.diffkt/-d-scalar/index.html)__. The class does not inherit from the `Differentiable<T>` interface."
   ]
  },
  {
   "cell_type": "code",
   "execution_count": 31,
   "metadata": {
    "pycharm": {
     "name": "#%%\n"
    }
   },
   "outputs": [],
   "source": [
    "// MyVariable class\n",
    "\n",
    "class MyVariable(val v: DScalar) : Differentiable<MyVariable> {\n",
    "    \n",
    "    constructor( f: Float) : this(FloatScalar(f))\n",
    "    \n",
    "    override fun wrap(wrapper: Wrapper): MyVariable {\n",
    "        return MyVariable(wrapper.wrap(v))\n",
    "    }\n",
    "}"
   ]
  },
  {
   "cell_type": "markdown",
   "metadata": {
    "pycharm": {
     "name": "#%% md\n"
    }
   },
   "source": [
    "### Input\n",
    "\n",
    "The `Input` class takes a `List` of `MyVariable` as the input. The `Input` class does not implement the `Differentiable<T>` interface. Notice the hierarchy of the data structure. You have a class -> list -> class -> __[DScalar](http://www.diffkt.org/api/api/org.diffkt/-d-scalar/index.html)__. In this data structure there is a mixture of the implementations of the `wrap()` function: inheriting from `Differentiable<T>`, not inheriting from `Differentiable<T>`, and using registration."
   ]
  },
  {
   "cell_type": "code",
   "execution_count": 32,
   "metadata": {
    "pycharm": {
     "name": "#%%\n"
    }
   },
   "outputs": [],
   "source": [
    "// Input class\n",
    "\n",
    "class Input(val i : List<MyVariable>) {\n",
    "    \n",
    "    fun wrap(wrapper: Wrapper): Input {\n",
    "        return Input(wrapper.wrap(i))\n",
    "    }\n",
    "    \n",
    "    fun getX(index : Int) : DScalar {\n",
    "        return i[index].v\n",
    "    }\n",
    "}"
   ]
  },
  {
   "cell_type": "markdown",
   "metadata": {
    "pycharm": {
     "name": "#%% md\n"
    }
   },
   "source": [
    "### Output\n",
    "\n",
    "The `Output` class uses a `Pair<`__[DScalar](http://www.diffkt.org/api/api/org.diffkt/-d-scalar/index.html)__`,`__[DScalar](http://www.diffkt.org/api/api/org.diffkt/-d-scalar/index.html)__`>` to hold the output variables $y_0$ and $y_1$. `Pair<`__[DScalar](http://www.diffkt.org/api/api/org.diffkt/-d-scalar/index.html)__`,`__[DScalar](http://www.diffkt.org/api/api/org.diffkt/-d-scalar/index.html)__`>` does not have to be wrapped because it is registered in the internal code. The `Output` class does not inherit from the `Differentiable<T>` interface."
   ]
  },
  {
   "cell_type": "code",
   "execution_count": 33,
   "metadata": {
    "pycharm": {
     "name": "#%%\n"
    }
   },
   "outputs": [],
   "source": [
    "// Output class\n",
    "\n",
    "class Output(val o : Pair<DScalar, DScalar>) {\n",
    "    \n",
    "    fun wrap(wrapper: Wrapper): Output {\n",
    "        return Output(Pair(wrapper.wrap(o.first), wrapper.wrap(o.second)))\n",
    "    }    \n",
    "    \n",
    "}"
   ]
  },
  {
   "cell_type": "markdown",
   "metadata": {
    "pycharm": {
     "name": "#%% md\n"
    }
   },
   "source": [
    "### Derivative\n",
    "\n",
    "The `Derivative` class is the same as the previous example."
   ]
  },
  {
   "cell_type": "code",
   "execution_count": 34,
   "metadata": {
    "pycharm": {
     "name": "#%%\n"
    }
   },
   "outputs": [],
   "source": [
    "// Derivative class\n",
    "\n",
    "class Derivative(val dy0Dx0: DScalar, val dy0Dx1: DScalar, val dy0Dx2: DScalar, \n",
    "                 val dy1Dx0: DScalar, val dy1Dx1: DScalar, val dy1Dx2: DScalar) "
   ]
  },
  {
   "cell_type": "markdown",
   "metadata": {
    "pycharm": {
     "name": "#%% md\n"
    }
   },
   "source": [
    "### Extracting the Derivatives\n",
    "\n",
    "The `makeDerivative()` function is adapted for the new `Input` and `Output` data structures. A helper function, `getX()`, was implemented in the `Input` class to index the input variables."
   ]
  },
  {
   "cell_type": "code",
   "execution_count": 35,
   "metadata": {
    "pycharm": {
     "name": "#%%\n"
    }
   },
   "outputs": [],
   "source": [
    "// extracting the derivatives\n",
    "\n",
    "fun makeDerivative(input: Input, output: Output, \n",
    "                    extractDerivative: (DTensor, DTensor) -> DTensor): Derivative {\n",
    "        \n",
    "    val x0 = input.getX(0) \n",
    "    val x1 = input.getX(1) \n",
    "    val x2 = input.getX(2) \n",
    "    val y0 = output.o.first \n",
    "    val y1 = output.o.second\n",
    "    \n",
    "    val dy0Dx0 = extractDerivative(x0, y0) as DScalar\n",
    "    val dy0Dx1 = extractDerivative(x1, y0) as DScalar\n",
    "    val dy0Dx2 = extractDerivative(x2, y0) as DScalar\n",
    "    val dy1Dx0 = extractDerivative(x0, y1) as DScalar\n",
    "    val dy1Dx1 = extractDerivative(x1, y1) as DScalar\n",
    "    val dy1Dx2 = extractDerivative(x2, y1) as DScalar\n",
    "    \n",
    "    return Derivative(dy0Dx0, dy0Dx1, dy0Dx2, dy1Dx0, dy1Dx1, dy1Dx2)                      \n",
    "}\n"
   ]
  },
  {
   "cell_type": "markdown",
   "metadata": {
    "pycharm": {
     "name": "#%% md\n"
    }
   },
   "source": [
    "### User Defined Function\n",
    "\n",
    "The user defined function `f()` is the same as the previous examples except it is adapted for the new data structures."
   ]
  },
  {
   "cell_type": "code",
   "execution_count": 36,
   "metadata": {
    "pycharm": {
     "name": "#%%\n"
    }
   },
   "outputs": [],
   "source": [
    "// user defined function\n",
    "\n",
    "fun f(input: Input): Output {\n",
    "        \n",
    "    val x0 = input.getX(0)\n",
    "    val x1 = input.getX(1)\n",
    "    val x2 = input.getX(2)\n",
    "        \n",
    "    val y0  = 2f * x0 + 2f * x1.pow(2f) + 3f * x1 * x2.pow(3f) \n",
    "    val y1  = 3f * x0.pow(3f) * x1 + 2f * x2.pow(2f) + 3f * x2.pow(3f)\n",
    "     \n",
    "    return Output(Pair(y0, y1))\n",
    "}"
   ]
  },
  {
   "cell_type": "markdown",
   "metadata": {
    "pycharm": {
     "name": "#%% md\n"
    }
   },
   "source": [
    "### Initialization of X"
   ]
  },
  {
   "cell_type": "code",
   "execution_count": 37,
   "metadata": {
    "pycharm": {
     "name": "#%%\n"
    }
   },
   "outputs": [],
   "source": [
    "// Initialization of x\n",
    "\n",
    "val l = listOf(MyVariable(1f),MyVariable(2f), MyVariable(3f))\n",
    "val x = Input(l)"
   ]
  },
  {
   "cell_type": "markdown",
   "metadata": {
    "pycharm": {
     "name": "#%% md\n"
    }
   },
   "source": [
    "### Calling `primalAndForwardDerivative()`\n",
    "\n",
    "Since parts of the `Input` and `Output` data structures do not inherit from the `Differentiable<T>` interface, we need a way for `wrap()` to be called. The parameter `wrapInput` is assigned a lambda that calls the `wrap()` function for `Input`. The parameter `wrapOutput` is assigned a lambda that calls the `wrap()` function for `Output`.  __[primalAndForwardDerivative()](http://www.diffkt.org/api/api/org.diffkt/primal-and-forward-derivatives.html)__ works with a mixture of wrapping methods for the data types in a complex data structure."
   ]
  },
  {
   "cell_type": "code",
   "execution_count": 38,
   "metadata": {
    "pycharm": {
     "name": "#%%\n"
    }
   },
   "outputs": [],
   "source": [
    "// Calculate the derivatives with the forward algorithm\n",
    "\n",
    "val (p,d) = primalAndForwardDerivative(\n",
    "    x = x,\n",
    "    f = ::f,\n",
    "    wrapInput = {i, w -> i.wrap(w)},\n",
    "    wrapOutput = {o, w -> o.wrap(w)},\n",
    "    extractDerivative = ::makeDerivative)"
   ]
  },
  {
   "cell_type": "markdown",
   "metadata": {
    "pycharm": {
     "name": "#%% md\n"
    }
   },
   "source": [
    "### Output"
   ]
  },
  {
   "cell_type": "code",
   "execution_count": 39,
   "metadata": {
    "pycharm": {
     "name": "#%%\n"
    }
   },
   "outputs": [
    {
     "name": "stdout",
     "output_type": "stream",
     "text": [
      "y0 = 172.0\n",
      "y1 = 105.0\n",
      "dy0Dx0 = 2.0\n",
      "dy0Dx1 = 89.0\n",
      "dy0Dx2 = 162.0\n",
      "dy1Dx0 = 18.0\n",
      "dy1Dx1 = 3.0\n",
      "dy1Dx2 = 93.0\n"
     ]
    }
   ],
   "source": [
    "// print the output\n",
    "\n",
    "println(\"y0 = ${p.o.first}\")\n",
    "println(\"y1 = ${p.o.second}\")\n",
    "println(\"dy0Dx0 = ${d.dy0Dx0}\")\n",
    "println(\"dy0Dx1 = ${d.dy0Dx1}\")\n",
    "println(\"dy0Dx2 = ${d.dy0Dx2}\")\n",
    "println(\"dy1Dx0 = ${d.dy1Dx0}\")\n",
    "println(\"dy1Dx1 = ${d.dy1Dx1}\")\n",
    "println(\"dy1Dx2 = ${d.dy1Dx2}\")"
   ]
  },
  {
   "cell_type": "markdown",
   "metadata": {
    "pycharm": {
     "name": "#%% md\n"
    }
   },
   "source": [
    "### Calling `primalAndReverseDerivative()`\n",
    "\n",
    "This works in the same manner as the forward algorithm."
   ]
  },
  {
   "cell_type": "code",
   "execution_count": 40,
   "metadata": {
    "pycharm": {
     "name": "#%%\n"
    }
   },
   "outputs": [],
   "source": [
    "// Calculate the derivatives with the reverse algorithm\n",
    "\n",
    "val (pr,dr) = primalAndReverseDerivative(\n",
    "    x = x,\n",
    "    f = ::f,\n",
    "    wrapInput = {i, w -> i.wrap(w)},\n",
    "    wrapOutput = {o, w -> o.wrap(w)},\n",
    "    extractDerivative = ::makeDerivative)"
   ]
  },
  {
   "cell_type": "markdown",
   "metadata": {
    "pycharm": {
     "name": "#%% md\n"
    }
   },
   "source": [
    "### Output"
   ]
  },
  {
   "cell_type": "code",
   "execution_count": 41,
   "metadata": {
    "pycharm": {
     "name": "#%%\n"
    }
   },
   "outputs": [
    {
     "name": "stdout",
     "output_type": "stream",
     "text": [
      "y0 = 172.0\n",
      "y1 = 105.0\n",
      "dy0Dx0 = 2.0\n",
      "dy0Dx1 = 89.0\n",
      "dy0Dx2 = 162.0\n",
      "dy1Dx0 = 18.0\n",
      "dy1Dx1 = 3.0\n",
      "dy1Dx2 = 93.0\n"
     ]
    }
   ],
   "source": [
    "// print the output\n",
    "\n",
    "println(\"y0 = ${pr.o.first}\")\n",
    "println(\"y1 = ${pr.o.second}\")\n",
    "println(\"dy0Dx0 = ${dr.dy0Dx0}\")\n",
    "println(\"dy0Dx1 = ${dr.dy0Dx1}\")\n",
    "println(\"dy0Dx2 = ${dr.dy0Dx2}\")\n",
    "println(\"dy1Dx0 = ${dr.dy1Dx0}\")\n",
    "println(\"dy1Dx1 = ${dr.dy1Dx1}\")\n",
    "println(\"dy1Dx2 = ${dr.dy1Dx2}\")"
   ]
  },
  {
   "cell_type": "markdown",
   "metadata": {
    "pycharm": {
     "name": "#%% md\n"
    }
   },
   "source": [
    "## Using Registration\n",
    "\n",
    "Registration allows one to register a class with __[Wrapper()](http://www.diffkt.org/api/api/org.diffkt/-wrapper/index.html)__ and then use the class without inheriting from Differentiable<T> or use `wrapInput` or `wrapOutput` in every call to __[primalAndForwardDerivative()](http://www.diffkt.org/api/api/org.diffkt/primal-and-forward-derivative.html)__ or __[primalAndReverseDerivative()](http://www.diffkt.org/api/api/org.diffkt/primal-and-reverse-derivative.html)__. Registration is useful for user defined types that are not the `Input` or `Output` classes."
   ]
  },
  {
   "cell_type": "markdown",
   "metadata": {
    "pycharm": {
     "name": "#%% md\n"
    }
   },
   "source": [
    "### MyMap\n",
    "\n",
    "`MyMap` is an container to hold a `Map`, such that the values are wrapped but the keys are not. `MyMap` does not inherit from `Differentiable<T>`. `MyMap` is used in as a data structure in both the `Input` and `Output` classes. Notice that since it does not inherit from `Differentiable<T>` nor is it an input or output class, which can use `wrapInput` or `wrapOutput`, it needs a way to get its `wrap()` function called. Registration is the method that will wrap the class."
   ]
  },
  {
   "cell_type": "code",
   "execution_count": 42,
   "metadata": {
    "pycharm": {
     "name": "#%%\n"
    }
   },
   "outputs": [],
   "source": [
    "// MyMap class\n",
    "\n",
    "class MyMap(val myMap: Map<String, DScalar>) {\n",
    " \n",
    "    operator fun get(key: String) : DScalar {\n",
    "        \n",
    "        return myMap[key] ?: FloatScalar(0f)\n",
    "    }\n",
    "    \n",
    "    fun wrap(wrapper: Wrapper) : MyMap {\n",
    "        return MyMap(myMap.mapValues {wrapper.wrap(it.value)})\n",
    "    }\n",
    "      \n",
    "}"
   ]
  },
  {
   "cell_type": "markdown",
   "metadata": {
    "pycharm": {
     "name": "#%% md\n"
    }
   },
   "source": [
    "### Register MyMap\n",
    "\n",
    "Register `MyMap` with the `Wrapper` class. Once the class is registered with the Wrapper, the class can be used anywhere in the code. The lambda used for the wrapping is the same as the lambdas used with `wrapInput` and `wrapOutput`."
   ]
  },
  {
   "cell_type": "code",
   "execution_count": 43,
   "metadata": {
    "pycharm": {
     "name": "#%%\n"
    }
   },
   "outputs": [],
   "source": [
    "Wrapper.register(MyMap::class, {m, w -> m.wrap(w)})"
   ]
  },
  {
   "cell_type": "markdown",
   "metadata": {
    "pycharm": {
     "name": "#%% md\n"
    }
   },
   "source": [
    "### Input\n",
    "\n",
    "The `Input` class inherits from the `Differentiable<T>` interface. The `wrap()` function is overridden because it needs to return the type of `Input`. `Input` is initialized with a variable,`inputMap`, of type `MyMap`."
   ]
  },
  {
   "cell_type": "code",
   "execution_count": 44,
   "metadata": {
    "pycharm": {
     "name": "#%%\n"
    }
   },
   "outputs": [],
   "source": [
    "// Input class\n",
    "\n",
    "class Input(val inputMap: MyMap) : Differentiable<Input> {\n",
    "    \n",
    "    override fun wrap(wrapper: Wrapper) : Input {\n",
    "        return Input(wrapper.wrap(inputMap))\n",
    "    }\n",
    "      \n",
    "}"
   ]
  },
  {
   "cell_type": "markdown",
   "metadata": {
    "pycharm": {
     "name": "#%% md\n"
    }
   },
   "source": [
    "### Output\n",
    "\n",
    "The `Output` class does not inherit from the `Differentiable<T>` interface. We will use the `wrapInput` method."
   ]
  },
  {
   "cell_type": "code",
   "execution_count": 45,
   "metadata": {
    "pycharm": {
     "name": "#%%\n"
    }
   },
   "outputs": [],
   "source": [
    "// Output class\n",
    "\n",
    "class Output(val outputMap: MyMap) {\n",
    "    \n",
    "    fun wrap(wrapper: Wrapper) : Output {\n",
    "        return Output(wrapper.wrap(outputMap))\n",
    "    }\n",
    "   \n",
    "}"
   ]
  },
  {
   "cell_type": "markdown",
   "metadata": {
    "pycharm": {
     "name": "#%% md\n"
    }
   },
   "source": [
    "### Derivative\n",
    "\n",
    "The `Derivative` class is the same as previous examples."
   ]
  },
  {
   "cell_type": "code",
   "execution_count": 46,
   "metadata": {
    "pycharm": {
     "name": "#%%\n"
    }
   },
   "outputs": [],
   "source": [
    "// Derivative class\n",
    "\n",
    "class Derivative(val dy0Dx0: DScalar, val dy0Dx1: DScalar, val dy0Dx2: DScalar, \n",
    "                 val dy1Dx0: DScalar, val dy1Dx1: DScalar, val dy1Dx2: DScalar) "
   ]
  },
  {
   "cell_type": "markdown",
   "metadata": {
    "pycharm": {
     "name": "#%% md\n"
    }
   },
   "source": [
    "### Extracting the Derivatives\n",
    "\n",
    "The `makeDerivative()` function is adapated for using a map to hold the input and output variables."
   ]
  },
  {
   "cell_type": "code",
   "execution_count": 47,
   "metadata": {
    "pycharm": {
     "name": "#%%\n"
    }
   },
   "outputs": [],
   "source": [
    "// extracting the derivatives\n",
    "\n",
    "fun makeDerivative(input: Input, output: Output, \n",
    "                    extractDerivative: (DTensor, DTensor) -> DTensor): Derivative {\n",
    "    \n",
    "    val x0 = input.inputMap[\"x0\"]\n",
    "    val x1 = input.inputMap[\"x1\"]\n",
    "    val x2 = input.inputMap[\"x2\"]\n",
    "    val y0 = output.outputMap[\"y0\"]\n",
    "    val y1 = output.outputMap[\"y1\"]\n",
    "        \n",
    "    var dy0Dx0 = extractDerivative(x0, y0) as DScalar\n",
    "    var dy0Dx1 = extractDerivative(x1, y0) as DScalar\n",
    "    var dy0Dx2 = extractDerivative(x2, y0) as DScalar\n",
    "    var dy1Dx0 = extractDerivative(x0, y1) as DScalar\n",
    "    var dy1Dx1 = extractDerivative(x1, y1) as DScalar\n",
    "    var dy1Dx2 = extractDerivative(x2, y1) as DScalar\n",
    "\n",
    "    return Derivative(dy0Dx0, dy0Dx1, dy0Dx2, dy1Dx0, dy1Dx1, dy1Dx2)                      \n",
    "}"
   ]
  },
  {
   "cell_type": "markdown",
   "metadata": {
    "pycharm": {
     "name": "#%% md\n"
    }
   },
   "source": [
    "### User Defined Function\n",
    "\n",
    "The user defined function `f()` is adapted for using a map to hold the input and output variables."
   ]
  },
  {
   "cell_type": "code",
   "execution_count": 48,
   "metadata": {
    "pycharm": {
     "name": "#%%\n"
    }
   },
   "outputs": [],
   "source": [
    "// user defined function\n",
    "\n",
    "fun f(input: Input): Output {\n",
    "        \n",
    "    val x0 = input.inputMap[\"x0\"]\n",
    "    val x1 = input.inputMap[\"x1\"]\n",
    "    val x2 = input.inputMap[\"x2\"]\n",
    "        \n",
    "    val y0  = 2f * x0 + 2f * x1.pow(2f) + 3f * x1 * x2.pow(3f) \n",
    "    val y1  = 3f * x0.pow(3f) * x1 + 2f * x1.pow(2f) + 3f * x2.pow(3f)\n",
    "        \n",
    "    return Output(MyMap(mapOf(\"y0\" to y0, \"y1\" to y1)))\n",
    "}"
   ]
  },
  {
   "cell_type": "markdown",
   "metadata": {
    "pycharm": {
     "name": "#%% md\n"
    }
   },
   "source": [
    "### Initialization of X"
   ]
  },
  {
   "cell_type": "code",
   "execution_count": 49,
   "metadata": {
    "pycharm": {
     "name": "#%%\n"
    }
   },
   "outputs": [],
   "source": [
    "// Initialization of x\n",
    "\n",
    "var x = Input(MyMap(mapOf(\"x0\" to FloatScalar(1f), \"x1\" to FloatScalar(2f), \"x2\" to FloatScalar(3f))))"
   ]
  },
  {
   "cell_type": "markdown",
   "metadata": {
    "pycharm": {
     "name": "#%% md\n"
    }
   },
   "source": [
    "### Calling `primalAndForwardDerivative()`\n",
    "\n",
    "Notice that `wrapOutput` is used for the `Output` class."
   ]
  },
  {
   "cell_type": "code",
   "execution_count": 50,
   "metadata": {
    "pycharm": {
     "name": "#%%\n"
    }
   },
   "outputs": [],
   "source": [
    "// Calculate the derivatives with the forward algorithm\n",
    "\n",
    "val (p,d) = primalAndForwardDerivative(\n",
    "    x = x,\n",
    "    f = ::f,\n",
    "    wrapOutput = { o, w -> o.wrap(w)},\n",
    "    extractDerivative = ::makeDerivative)"
   ]
  },
  {
   "cell_type": "markdown",
   "metadata": {
    "pycharm": {
     "name": "#%% md\n"
    }
   },
   "source": [
    "### Output"
   ]
  },
  {
   "cell_type": "code",
   "execution_count": 51,
   "metadata": {
    "pycharm": {
     "name": "#%%\n"
    }
   },
   "outputs": [
    {
     "name": "stdout",
     "output_type": "stream",
     "text": [
      "y0 = 172.0\n",
      "y1 = 95.0\n",
      "dy0Dx0 = 2.0\n",
      "dy0Dx1 = 89.0\n",
      "dy0Dx2 = 162.0\n",
      "dy1Dx0 = 18.0\n",
      "dy1Dx1 = 11.0\n",
      "dy1Dx2 = 81.0\n"
     ]
    }
   ],
   "source": [
    "// print the output\n",
    "\n",
    "println(\"y0 = ${p.outputMap[\"y0\"]}\")\n",
    "println(\"y1 = ${p.outputMap[\"y1\"]}\")\n",
    "println(\"dy0Dx0 = ${d.dy0Dx0}\")\n",
    "println(\"dy0Dx1 = ${d.dy0Dx1}\")\n",
    "println(\"dy0Dx2 = ${d.dy0Dx2}\")\n",
    "println(\"dy1Dx0 = ${d.dy1Dx0}\")\n",
    "println(\"dy1Dx1 = ${d.dy1Dx1}\")\n",
    "println(\"dy1Dx2 = ${d.dy1Dx2}\")"
   ]
  },
  {
   "cell_type": "markdown",
   "metadata": {
    "pycharm": {
     "name": "#%% md\n"
    }
   },
   "source": [
    "### Calling `primalAndReverseDerivative()`\n",
    "\n",
    "Notice that `wrapOutput` is used for the `Output` class."
   ]
  },
  {
   "cell_type": "code",
   "execution_count": 52,
   "metadata": {
    "pycharm": {
     "name": "#%%\n"
    }
   },
   "outputs": [],
   "source": [
    "// Calculate the derivatives with the reverse algorithm\n",
    "\n",
    "val (pr,dr) = primalAndReverseDerivative(\n",
    "    x = x,\n",
    "    f = ::f,\n",
    "    wrapOutput = { o, w -> o.wrap(w)},\n",
    "    extractDerivative = ::makeDerivative)"
   ]
  },
  {
   "cell_type": "markdown",
   "metadata": {
    "pycharm": {
     "name": "#%% md\n"
    }
   },
   "source": [
    "### Output"
   ]
  },
  {
   "cell_type": "code",
   "execution_count": 53,
   "metadata": {
    "pycharm": {
     "name": "#%%\n"
    }
   },
   "outputs": [
    {
     "name": "stdout",
     "output_type": "stream",
     "text": [
      "y0 = 172.0\n",
      "y1 = 95.0\n",
      "dy0Dx0 = 2.0\n",
      "dy0Dx1 = 89.0\n",
      "dy0Dx2 = 162.0\n",
      "dy1Dx0 = 18.0\n",
      "dy1Dx1 = 11.0\n",
      "dy1Dx2 = 81.0\n"
     ]
    }
   ],
   "source": [
    "// print the output\n",
    "\n",
    "println(\"y0 = ${pr.outputMap[\"y0\"]}\")\n",
    "println(\"y1 = ${pr.outputMap[\"y1\"]}\")\n",
    "println(\"dy0Dx0 = ${dr.dy0Dx0}\")\n",
    "println(\"dy0Dx1 = ${dr.dy0Dx1}\")\n",
    "println(\"dy0Dx2 = ${dr.dy0Dx2}\")\n",
    "println(\"dy1Dx0 = ${dr.dy1Dx0}\")\n",
    "println(\"dy1Dx1 = ${dr.dy1Dx1}\")\n",
    "println(\"dy1Dx2 = ${dr.dy1Dx2}\")"
   ]
  },
  {
   "cell_type": "markdown",
   "metadata": {
    "pycharm": {
     "name": "#%% md\n"
    }
   },
   "source": [
    "# The End\n",
    "\n",
    "You have seen many examples of user defined types. Hopefully, this tutorial will assist you in creating and using your own user defined types with **DiffKt**."
   ]
  }
 ],
 "metadata": {
  "kernelspec": {
   "display_name": "Kotlin",
   "language": "kotlin",
   "name": "kotlin"
  },
  "language_info": {
   "codemirror_mode": "text/x-kotlin",
   "file_extension": ".kt",
   "mimetype": "text/x-kotlin",
   "name": "kotlin",
   "nbconvert_exporter": "",
   "pygments_lexer": "kotlin",
   "version": "1.7.0-dev-3303"
  }
 },
 "nbformat": 4,
 "nbformat_minor": 1
}
